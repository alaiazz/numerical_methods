{
  "cells": [
    {
      "cell_type": "markdown",
      "metadata": {},
      "source": [
        "# Problem 1 "
      ]
    },
    {
      "cell_type": "markdown",
      "metadata": {},
      "source": [
        "## (a)\n",
        "\n",
        "\\begin{align*}\n",
        "& \\text{Known a forward contract paying $S_{T_2} − F_t$ at time $T_2$ has time-t value 0: }\\\\\n",
        "& \\Rightarrow S_t - F_t e^{-r(T_2-t)} = 0 \\\\ \n",
        "& \\Rightarrow F_t = S_t  e^{r(T_2-t)}\\\\\n",
        "\n",
        "& \\text{Constructing the portfolio: }\\\\\n",
        "& V_t = (S_t - K e^{-r(T_2-t)}) - (S_t - F_t e^{-r(T_2-t)}) \\\\\n",
        "& V_t = S_t - K e^{-r(T_2-t)} - S_t + F_t e^{-r(T_2-t)} = (F_t - K) e^{-r(T_2-t)}\\\\\n",
        "& \\text{Then, } f_t = (F_t - K) e^{-r(T_2-t)}\n",
        "\n",
        "\n",
        "\n",
        "\\end{align*}"
      ]
    },
    {
      "cell_type": "markdown",
      "metadata": {},
      "source": [
        "## (b)\n",
        "\n",
        "The original context: If, say, $F_t > S_te^{r(T_2−t)}$, then arbitrage would exist: at time t, borrow $S_t$ dollars, buy the stock, and short the forward (with delivery price $F_t$ and time-t value 0). At time $T_2$, deliver the stock, and receive $F_t$, which is more than enough to cover your accumulated debt of $S_te^{r(T_2−t)}$ dollars.\n",
        "\n",
        "The key problem is here that $S_t$ represents the time-t price of crude barrel for time-t delivery. We cannnot simply buy the curde oil at time t, and then return it at $T_2$. We need to consider the storage fee, transportation fee and the default risk of commodity itself for crude oil. Therefore, the acummulated debt cannot be simply estimated as before. The accumultaed debt should equal to $S_te^{r(T_2−t)} + storage fee + transportation fee$. Then, at this point, we are not sure whether $F_t> S_te^{r(T_2−t)} + storage fee + transportation fee $"
      ]
    },
    {
      "cell_type": "markdown",
      "metadata": {},
      "source": [
        "## (c)"
      ]
    },
    {
      "cell_type": "markdown",
      "metadata": {},
      "source": [
        "\\begin{align*}\n",
        "& S_t = exp(X_t) \\Rightarrow log(S_t) = X_t \\\\\n",
        "& d log(S_t) = d X_t = \\kappa(\\alpha − X_t)dt + \\sigma dW_t = \\kappa(\\alpha − log S_t)dt + \\sigma dW_t\\\\\n",
        "& \\Rightarrow X_t = X_{t-1} +  \\kappa(\\alpha − X_{t-1}) \\times \\Delta t + \\sigma W_{t-1} \\\\\n",
        "& F_t = E_t(S_{T_2}) = \\exp \\left[ e^{-\\kappa (T_2-t)} \\log S_t + (1 - e^{-\\kappa (T_2-t)}) \\alpha + \\frac{\\sigma^2}{4\\kappa} (1 - e^{-2\\kappa (T_2-t)}) \\right]\n",
        "\\end{align*}"
      ]
    },
    {
      "cell_type": "code",
      "execution_count": 1,
      "metadata": {
        "id": "E0WlTWDdBvnG"
      },
      "outputs": [],
      "source": [
        "import numpy as np\n",
        "from scipy.stats import norm\n",
        "from scipy.optimize import fsolve\n",
        "import pandas as pd"
      ]
    },
    {
      "cell_type": "code",
      "execution_count": 2,
      "metadata": {
        "id": "Ft75a8kKBvnI"
      },
      "outputs": [],
      "source": [
        "\n",
        "\n",
        "class XOU:\n",
        "\n",
        "    def __init__(self, kappa, alpha, sigma, S0, r):\n",
        "\n",
        "        self.kappa = kappa\n",
        "        self.alpha = alpha\n",
        "        self.sigma = sigma\n",
        "        self.S0 = S0\n",
        "        self.r = r"
      ]
    },
    {
      "cell_type": "code",
      "execution_count": 3,
      "metadata": {
        "id": "IcEYQHQ0BvnJ"
      },
      "outputs": [],
      "source": [
        "hw5dynamics=XOU(kappa = 0.472, alpha = 4.4, sigma = 0.368, S0 = 106.9, r = 0.05)"
      ]
    },
    {
      "cell_type": "code",
      "execution_count": 4,
      "metadata": {
        "id": "5LmdWqdCBvnK"
      },
      "outputs": [],
      "source": [
        "class CallOnForwardPrice:\n",
        "\n",
        "    def __init__(self, K1, T1, T2):\n",
        "\n",
        "        self.K1 = K1\n",
        "        self.T1 = T1\n",
        "        self.T2 = T2\n"
      ]
    },
    {
      "cell_type": "code",
      "execution_count": 5,
      "metadata": {
        "id": "RsteLMcfBvnK"
      },
      "outputs": [],
      "source": [
        "hw5contract=CallOnForwardPrice(K1 = 103.2, T1 = 0.5, T2 = 0.75)"
      ]
    },
    {
      "cell_type": "code",
      "execution_count": 6,
      "metadata": {
        "id": "edbQw63pBvnK"
      },
      "outputs": [],
      "source": [
        "class MCengine:\n",
        "\n",
        "    def __init__(self, N, M, epsilon, seed):\n",
        "\n",
        "        self.N = N   \n",
        "        self.M = M  \n",
        "        self.epsilon = epsilon  \n",
        "        self.rng = np.random.default_rng(seed=seed) \n",
        "\n",
        "    def price_call_XOU(self, contract, dynamics):\n",
        "\n",
        "\n",
        "        self.rng.normal()\n",
        "        S0 = dynamics.S0\n",
        "        r = dynamics.r\n",
        "        K1 = contract.K1\n",
        "        T1 = contract.T1\n",
        "        T2 = contract.T2\n",
        "        kappa = dynamics.kappa\n",
        "        alpha = dynamics.alpha\n",
        "        sigma = dynamics.sigma\n",
        "        N = self.N\n",
        "        M = self.M\n",
        "        epsilon = self.epsilon\n",
        "        dt = T1/N\n",
        "        S0_delta = S0 + epsilon\n",
        "\n",
        "        def path(S0,S0_delta):\n",
        "            X0 = np.log(S0)\n",
        "            X0_delta = np.log(S0_delta)\n",
        "\n",
        "            for _ in range (1, N+1):\n",
        "\n",
        "                dW = self.rng.normal()\n",
        "                #X_t = X_{t-1} +  \\kappa(\\alpha − X_{t-1}) \\times \\Delta t + \\sigma W_{t-1}\n",
        "                X0 += (kappa*(alpha - X0)*dt + np.sqrt(dt)*sigma*dW)\n",
        "                X0_delta += (kappa*(alpha - X0_delta)*dt + sigma*np.sqrt(dt)*dW)\n",
        "            # \\exp \\left[ e^{-\\kappa (T_2-t)} \\log S_t + (1 - e^{-\\kappa (T_2-t)}) \\alpha + \\frac{\\sigma^2}{4\\kappa} (1 - e^{-2\\kappa (T_2-t)}) \\right]\n",
        "            Ft =  np.exp(np.exp(-kappa*(T2-T1))*X0 + (1 - np.exp(-kappa*(T2-T1)))*alpha + sigma**2/(4*kappa)*(1 - np.exp(-2*kappa*(T2-T1))))\n",
        "            Ft_delta =  np.exp(np.exp(-kappa*(T2-T1))*X0_delta + (1 - np.exp(-kappa*(T2-T1)))*alpha + sigma**2/(4*kappa)*(1 - np.exp(-2*kappa*(T2-T1))))\n",
        "\n",
        "            call_price = np.exp(-r*T1)*np.maximum(Ft-K1, 0)\n",
        "            call_price_1 = np.exp(-r*T1)*np.maximum(Ft_delta-K1, 0)\n",
        "\n",
        "            return(call_price, call_price_1)\n",
        "        \n",
        "        call_price_list = []\n",
        "        call_price_1_list = []\n",
        "        for _ in range (1, M+1):\n",
        "            call_price, call_price_1 = path(S0,S0_delta)\n",
        "            call_price_list.append(call_price)\n",
        "            call_price_1_list.append(call_price_1)\n",
        "        \n",
        "        call_price = np.mean(call_price_list)\n",
        "        call_price_1 = np.mean(call_price_1_list)\n",
        "        standard_error = np.std(call_price_list)/np.sqrt(M)\n",
        "        call_delta = (call_price_1 - call_price)/epsilon\n",
        "        print(np.exp(np.exp(-kappa*(T2))*np.log(S0) + (1 - np.exp(-kappa*(T2)))*alpha + sigma**2/(4*kappa)*(1 - np.exp(-2*kappa*(T2)))))\n",
        "        return(call_price, standard_error, call_delta)\n"
      ]
    },
    {
      "cell_type": "code",
      "execution_count": 7,
      "metadata": {
        "id": "AkFjvy7EBvnL"
      },
      "outputs": [],
      "source": [
        "hw5MC = MCengine(N=100, M=100000, epsilon=0.01, seed=0)\n"
      ]
    },
    {
      "cell_type": "code",
      "execution_count": 8,
      "metadata": {
        "id": "Qy5j1gHeBvnL"
      },
      "outputs": [
        {
          "name": "stdout",
          "output_type": "stream",
          "text": [
            "102.23035226277118\n"
          ]
        }
      ],
      "source": [
        "(call_price, standard_error, call_delta) = hw5MC.price_call_XOU(hw5contract,hw5dynamics)"
      ]
    },
    {
      "cell_type": "code",
      "execution_count": 9,
      "metadata": {
        "id": "GSh_9GfbBvnL"
      },
      "outputs": [
        {
          "name": "stdout",
          "output_type": "stream",
          "text": [
            "7.734508897684603 0.042030256365663675 0.33997421657758764\n"
          ]
        }
      ],
      "source": [
        "print(call_price, standard_error, call_delta)"
      ]
    },
    {
      "cell_type": "markdown",
      "metadata": {},
      "source": [
        "Standard Error = 0.0420; Call price = 7.7345."
      ]
    },
    {
      "cell_type": "markdown",
      "metadata": {},
      "source": [
        "## (d)\n",
        "\n",
        "Call price delta = 0.3400"
      ]
    },
    {
      "cell_type": "markdown",
      "metadata": {},
      "source": [
        "## (e)\n",
        "\n",
        "\\begin{align*}\n",
        "\n",
        "& \\text{From question a, we can get: }\\\\\n",
        "&f_t = (F_t - K) e^{-r(T_2-t)} \\\\\n",
        "& F_t = \\exp \\left[ e^{-\\kappa (T_2-t)} X_t + (1 - e^{-\\kappa (T_2-t)}) \\alpha + \\frac{\\sigma^2}{4\\kappa} (1 - e^{-2\\kappa (T_2-t)}) \\right]\\\\\n",
        "& \\Rightarrow \\frac{\\partial f_0}{\\partial S} = \\frac{\\partial f_0}{\\partial F_t} \\frac{\\partial F_t}{\\partial X_t} \\frac{\\partial X_t}{\\partial S_t}\\\\\n",
        "\n",
        "& \\Rightarrow \\frac{\\partial f_0}{\\partial S} = e^{-rt}F_0*e^{-\\kappa(T_2)}\\frac{1}{S_t}\\\\\n",
        "& \\Rightarrow \\frac{\\partial f_0}{\\partial S} = 102.23035226277118 * e^{-0.472*0.75}\\frac{1}{106.9} = 0.67121\\\\\n",
        "\n",
        "\\end{align*}"
      ]
    },
    {
      "cell_type": "markdown",
      "metadata": {},
      "source": [
        "## (f)\n",
        "\n",
        "\\begin{align*}\n",
        "& V_t = -C_t + n \\cdot f_t \\\\\n",
        "& \\frac{\\partial V_t}{\\partial S_t} = -\\frac{\\partial C_t}{\\partial S_t} + n \\cdot \\frac{\\partial f_t}{\\partial S_t}\\\\\n",
        "& \\Rightarrow - 0.33997421657758764 + n \\cdot 0.67121 = 0 \\\\\n",
        "& n = 0.33997421657758764/0.67121 \\approx 0.5065 \n",
        " \n",
        "\n",
        "\\end{align*}"
      ]
    },
    {
      "cell_type": "markdown",
      "metadata": {},
      "source": [
        "## (g)\n",
        "\n",
        "\\begin{align*}\n",
        "&V_{T_2} = \\theta (F_{T_2} - K) + (5000 - \\theta) (S_{T_1} - K)\\\\\n",
        "&V_{T_2} = \\theta f_{T_2} + (5000 - \\theta) C_{T_1}\\\\\n",
        "& V_0 = \\theta f_0 + (5000 - \\theta) C_{T_1} e^{-r(T_2-T_1)}\\\\\n",
        "& V_0 = 4000* (102.23035226277118-103.2)*e^{-0.05*0.75} +  1000* 7.734508897684603 e^{-0.05*0.25} \\approx 3902.57\n",
        "\n",
        "\\end{align*}"
      ]
    },
    {
      "cell_type": "markdown",
      "metadata": {},
      "source": [
        "The time-0 value of this contract is approximately 3902.57. "
      ]
    },
    {
      "cell_type": "markdown",
      "metadata": {},
      "source": [
        "# Problem 2 "
      ]
    },
    {
      "cell_type": "markdown",
      "metadata": {},
      "source": [
        "## (a)\n",
        "\n",
        "The dynamics in 1 is capable of generating a non-constant with resepect to T term-structure of implied volatility. We only need to perform the similar procedure for that random variable. Since it depends on T, it is easy for us to generate it with the $X_t$. But we are unable to generate the implied volatility skew since it is with respect to K, does not match the path dependency created by the dynamics in 1. "
      ]
    },
    {
      "cell_type": "markdown",
      "metadata": {},
      "source": [
        "## (b)\n",
        "\n",
        "\\begin{align*}\n",
        "& S_0 = 100, r = 0.05,p(0.1) = 5.25, p(0.2) = 7.25, p(0.5) = 9.5. \\\\\n",
        "\n",
        "& C = N(d_1) S_t - N(d_2)Ke^{-rt}\\\\\n",
        "& d_1 = \\frac{ln(\\frac{S_t}{K} + (r+ \\frac{\\sigma^2}{2})t)}{\\sigma \\sqrt{t}} \\\\\n",
        "& d_2 = d_1 - \\sigma \\sqrt{t}\n",
        "\n",
        "\\end{align*}\n",
        "\n",
        "Utilizing the Black-Scholes Formula, we can get the answer: \n",
        "\n",
        "for t $\\in$ $[0,0.1]$, $\\sigma_{imp}$ = 0.397320\n",
        "\n",
        "for t $\\in$ $(0.1,0.2]$, $\\sigma_{imp}$ = 0.362211\n",
        "\n",
        "for t $\\in$ $(0.2,0.5]$, $\\sigma_{imp}$ = 0.220871\n"
      ]
    },
    {
      "cell_type": "code",
      "execution_count": 10,
      "metadata": {},
      "outputs": [],
      "source": [
        "def black_scholes_call(sigma,T,S =100, K=100, r= 0.05):\n",
        "    d1 = (np.log(S / K) + (r + 0.5 * sigma**2) * T) / (sigma * np.sqrt(T))\n",
        "    d2 = d1 - sigma * np.sqrt(T)\n",
        "    call_price = S * norm.cdf(d1) - K * np.exp(-r * T) * norm.cdf(d2)\n",
        "    return call_price\n",
        "\n",
        "vol_dict = {}\n",
        "for (p, T) in [(5.25, 0.1), (7.25, 0.2), (9.5, 0.5)]:\n",
        "    vol_dict[T] = fsolve(lambda x: p - black_scholes_call(x, T), x0=0.3)[0]"
      ]
    },
    {
      "cell_type": "code",
      "execution_count": 11,
      "metadata": {},
      "outputs": [
        {
          "data": {
            "text/html": [
              "<div>\n",
              "<style scoped>\n",
              "    .dataframe tbody tr th:only-of-type {\n",
              "        vertical-align: middle;\n",
              "    }\n",
              "\n",
              "    .dataframe tbody tr th {\n",
              "        vertical-align: top;\n",
              "    }\n",
              "\n",
              "    .dataframe thead th {\n",
              "        text-align: right;\n",
              "    }\n",
              "</style>\n",
              "<table border=\"1\" class=\"dataframe\">\n",
              "  <thead>\n",
              "    <tr style=\"text-align: right;\">\n",
              "      <th></th>\n",
              "      <th>sigma</th>\n",
              "      <th>integral</th>\n",
              "      <th>step_func</th>\n",
              "    </tr>\n",
              "    <tr>\n",
              "      <th>T</th>\n",
              "      <th></th>\n",
              "      <th></th>\n",
              "      <th></th>\n",
              "    </tr>\n",
              "  </thead>\n",
              "  <tbody>\n",
              "    <tr>\n",
              "      <th>0.1</th>\n",
              "      <td>0.397320</td>\n",
              "      <td>0.015786</td>\n",
              "      <td>0.397320</td>\n",
              "    </tr>\n",
              "    <tr>\n",
              "      <th>0.2</th>\n",
              "      <td>0.380171</td>\n",
              "      <td>0.028906</td>\n",
              "      <td>0.362211</td>\n",
              "    </tr>\n",
              "    <tr>\n",
              "      <th>0.5</th>\n",
              "      <td>0.295097</td>\n",
              "      <td>0.043541</td>\n",
              "      <td>0.220871</td>\n",
              "    </tr>\n",
              "  </tbody>\n",
              "</table>\n",
              "</div>"
            ],
            "text/plain": [
              "        sigma  integral  step_func\n",
              "T                                 \n",
              "0.1  0.397320  0.015786   0.397320\n",
              "0.2  0.380171  0.028906   0.362211\n",
              "0.5  0.295097  0.043541   0.220871"
            ]
          },
          "execution_count": 11,
          "metadata": {},
          "output_type": "execute_result"
        }
      ],
      "source": [
        "vol = pd.DataFrame(list(vol_dict.items()), columns=['T', 'sigma'])\n",
        "vol['integral'] = vol['sigma'] ** 2 * vol['T']\n",
        "\n",
        "vol['step_func'] = np.sqrt(\n",
        "    vol['integral'].diff().fillna(vol['integral']) /\n",
        "    vol['T'].diff().fillna(vol['T'])\n",
        ")\n",
        "\n",
        "vol.index = vol['T']\n",
        "vol.drop(columns=['T'], inplace=True)\n",
        "vol"
      ]
    },
    {
      "cell_type": "markdown",
      "metadata": {},
      "source": [
        "## (c)\n",
        " \n",
        "time-0 price is 8.7842. time-0.1 implied volatility is 0.3109."
      ]
    },
    {
      "cell_type": "code",
      "execution_count": 40,
      "metadata": {},
      "outputs": [
        {
          "data": {
            "text/plain": [
              "8.784201775931614"
            ]
          },
          "execution_count": 40,
          "metadata": {},
          "output_type": "execute_result"
        }
      ],
      "source": [
        "black_scholes_call(sigma=0.3108971298591372, T=0.4, S =100, K=100, r= 0.05)"
      ]
    },
    {
      "cell_type": "code",
      "execution_count": 39,
      "metadata": {},
      "outputs": [
        {
          "data": {
            "text/plain": [
              "0.3108971298591372"
            ]
          },
          "execution_count": 39,
          "metadata": {},
          "output_type": "execute_result"
        }
      ],
      "source": [
        "t = 0.4\n",
        "np.sqrt((vol.loc[0.2, \"integral\"] + vol.loc[0.5, \"step_func\"] ** 2 * (t - 0.2))/t)"
      ]
    }
  ],
  "metadata": {
    "anaconda-cloud": {},
    "colab": {
      "provenance": []
    },
    "kernelspec": {
      "display_name": "Python 3",
      "language": "python",
      "name": "python3"
    },
    "language_info": {
      "codemirror_mode": {
        "name": "ipython",
        "version": 3
      },
      "file_extension": ".py",
      "mimetype": "text/x-python",
      "name": "python",
      "nbconvert_exporter": "python",
      "pygments_lexer": "ipython3",
      "version": "3.11.3"
    },
    "toc": {
      "base_numbering": 1,
      "nav_menu": {},
      "number_sections": true,
      "sideBar": true,
      "skip_h1_title": false,
      "title_cell": "Table of Contents",
      "title_sidebar": "Contents",
      "toc_cell": false,
      "toc_position": {},
      "toc_section_display": true,
      "toc_window_display": false
    }
  },
  "nbformat": 4,
  "nbformat_minor": 0
}
