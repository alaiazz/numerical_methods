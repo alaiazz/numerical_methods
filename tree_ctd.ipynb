{
  "cells": [
    {
      "cell_type": "markdown",
      "metadata": {},
      "source": [
        "# Problem 1 "
      ]
    },
    {
      "cell_type": "markdown",
      "metadata": {},
      "source": [
        "contrat = general; dynamics = local volatility, pricer = tree. "
      ]
    },
    {
      "cell_type": "code",
      "execution_count": 1,
      "metadata": {
        "id": "kfhimoiXGfz7"
      },
      "outputs": [],
      "source": [
        "import numpy as np"
      ]
    },
    {
      "cell_type": "code",
      "execution_count": 2,
      "metadata": {
        "id": "1H8V1KKnGfz8"
      },
      "outputs": [],
      "source": [
        "class localvolDynamics:\n",
        "\n",
        "    def __init__(self, S0, r, q, maxvol, localvol):\n",
        "        self.S0 = S0\n",
        "        self.r = r\n",
        "        self.q = q\n",
        "        self.maxvol = maxvol\n",
        "        self.localvol = localvol\n"
      ]
    },
    {
      "cell_type": "code",
      "execution_count": 3,
      "metadata": {
        "id": "Om9QD4NPGfz9"
      },
      "outputs": [],
      "source": [
        "hw2dynamics = localvolDynamics(S0 = 100, r = 0.06, q = 0.01, maxvol = 0.6,\n",
        "                     localvol = lambda S,t: np.minimum(0.2+5*np.log(S/100)**2+0.1*np.exp(-t), 0.6))"
      ]
    },
    {
      "cell_type": "code",
      "execution_count": 5,
      "metadata": {
        "id": "OVw8UDagGfz9"
      },
      "outputs": [],
      "source": [
        "class CallOnAmericanPut:\n",
        "\n",
        "    def __init__(self, putexpiry, putstrike, callexpiry, callstrike):\n",
        "        self.putexpiry = putexpiry\n",
        "        self.putstrike = putstrike\n",
        "        self.callexpiry = callexpiry\n",
        "        self.callstrike = callstrike\n"
      ]
    },
    {
      "cell_type": "code",
      "execution_count": 6,
      "metadata": {
        "id": "d_jBNZ-hGfz9"
      },
      "outputs": [],
      "source": [
        "hw2contract = CallOnAmericanPut(putexpiry=0.75, putstrike=95, callexpiry=0.25, callstrike=10)"
      ]
    },
    {
      "cell_type": "code",
      "execution_count": 102,
      "metadata": {
        "id": "W-X2mdSMGfz9"
      },
      "outputs": [],
      "source": [
        "class TreeEngine:\n",
        "\n",
        "    def __init__(self, N):\n",
        "        self.N = N\n",
        "\n",
        "        self.deltat = None \n",
        "        self.rGrow = None \n",
        "        self.deltax = None \n",
        "        \n",
        "        self.put_price = {}\n",
        "        self.pu = {}\n",
        "        self.pd = {} \n",
        "        self.pm = {}\n",
        "\n",
        "    def American_put_price(self, contract, dynamics):\n",
        "        Sgrid = dynamics.S0*np.exp(np.linspace(self.N, -self.N, num=2*self.N+1, endpoint=True)*self.deltax) #last period S \n",
        "        optionprice = np.maximum(contract.putstrike - Sgrid, 0)\n",
        "        \n",
        "\n",
        "        for t in np.linspace(self.N-1, 0, num=self.N, endpoint=True)*self.deltat:\n",
        "            Sgrid = Sgrid[1:-1]\n",
        "            nu = self.rGrow - 0.5*(dynamics.localvol(Sgrid,t)**2)        \n",
        "            Pu = 0.5*((dynamics.localvol(Sgrid,t)**2 * self.deltat + nu**2 * self.deltat**2)/(self.deltax**2)+(nu*self.deltat)/(self.deltax))       \n",
        "            Pd = 0.5*((dynamics.localvol(Sgrid,t)**2 * self.deltat + nu**2 * self.deltat**2)/(self.deltax**2)-(nu*self.deltat)/(self.deltax))       \n",
        "            Pm = 1 - Pu - Pd  \n",
        "\n",
        "            continuation_value = np.exp(-dynamics.r * self.deltat) * (\n",
        "                optionprice[:-2] * Pu + \n",
        "                optionprice[1:-1] * Pm + \n",
        "                optionprice[2:] * Pd\n",
        "            )\n",
        "     \n",
        "            intrinsic_value = np.maximum(contract.putstrike - Sgrid, 0)\n",
        "\n",
        "            optionprice = np.maximum(intrinsic_value, continuation_value)\n",
        "\n",
        "            self.put_price[t] = optionprice \n",
        "            self.pu[t] = Pu\n",
        "            self.pd[t] = Pd\n",
        "            self.pm[t] = Pm \n",
        "\n",
        "        return optionprice[0]\n",
        "    \n",
        "    def European_call_price(self,contract,dynamics):\n",
        "        optionprice= np.maximum(self.put_price[contract.callexpiry] - contract.callstrike, 0)\n",
        "\n",
        "        call_N = int(contract.callexpiry / self.deltat)\n",
        "\n",
        "        for t in np.linspace(call_N-1, 0, num=call_N, endpoint=True)*self.deltat:\n",
        "            Pu = self.pu[t]\n",
        "            Pd = self.pd[t]\n",
        "            Pm = self.pm[t]\n",
        "            optionprice = np.exp(-dynamics.r * self.deltat) * (\n",
        "                optionprice[:-2] * Pu + \n",
        "                optionprice[1:-1] * Pm + \n",
        "                optionprice[2:] * Pd\n",
        "            )\n",
        "        return optionprice[0]\n",
        "\n",
        "\n",
        "    def price_compound_localvol(self, contract, dynamics):\n",
        "\n",
        "        self.deltat = contract.putexpiry / self.N\n",
        "        sigma_avg = dynamics.localvol(dynamics.S0,0)\n",
        "        self.deltax = np.maximum(sigma_avg*np.sqrt(3*self.deltat), dynamics.maxvol*np.sqrt(3*self.deltat)) \n",
        "        self.rGrow = dynamics.r - dynamics.q\n",
        "    \n",
        "\n",
        "        price_of_put = self.American_put_price(contract,dynamics)     \n",
        "\n",
        "        price_of_call_on_put =  self.European_call_price(contract, dynamics)  \n",
        "\n",
        "        return (price_of_put, price_of_call_on_put)\n"
      ]
    },
    {
      "cell_type": "code",
      "execution_count": 103,
      "metadata": {
        "id": "8BsNJDz7Gfz9"
      },
      "outputs": [],
      "source": [
        "hw2tree = TreeEngine(N=30000) "
      ]
    },
    {
      "cell_type": "code",
      "execution_count": 104,
      "metadata": {
        "id": "NWf-TVtJGfz-"
      },
      "outputs": [],
      "source": [
        "(answer_part_a, answer_part_b) = hw2tree.price_compound_localvol(hw2contract,hw2dynamics)"
      ]
    },
    {
      "cell_type": "code",
      "execution_count": 105,
      "metadata": {
        "id": "yn-qc2Y5Gfz-"
      },
      "outputs": [
        {
          "data": {
            "text/plain": [
              "(7.006887597204046, 1.5922137120613111)"
            ]
          },
          "execution_count": 105,
          "metadata": {},
          "output_type": "execute_result"
        }
      ],
      "source": [
        "(answer_part_a, answer_part_b)"
      ]
    },
    {
      "cell_type": "markdown",
      "metadata": {},
      "source": [
        "Part (a): put price is 7.006. \n",
        "\n",
        "\n",
        "Part (b): call price is 1.592."
      ]
    },
    {
      "cell_type": "markdown",
      "metadata": {},
      "source": [
        "# Problem 2 "
      ]
    },
    {
      "cell_type": "markdown",
      "metadata": {},
      "source": [
        "## (a)"
      ]
    },
    {
      "cell_type": "markdown",
      "metadata": {},
      "source": [
        "$$\n",
        "f = S_0N(d_1) - Ke^{-rT}N(d_2)\\\\\n",
        "d_{1,2} = \\frac{log(S_0e^{rT}/K)}{\\sigma\\sqrt{T}} \\pm \\frac{\\sigma\\sqrt{T}}{2}\\\\\n",
        "\\text{First order of Talyor approximation: } f(x) = f(x_0) + f'(x_0) * (x-x_0) + O(x- x_0)^1 \\\\\n",
        "\n",
        "delta = \\frac{\\partial f}{\\partial S} = N(d_1) = \\frac{rT}{\\sigma\\sqrt{T}} + \\frac{\\sigma\\sqrt{T}}{2} \\\\\n",
        "\\text{For small |x|: }\\\\\n",
        "delta(x) = N(0) + N'(0) * (x) + O(0) = 0.5 + \\frac{1}{\\sqrt{2\\pi}} * (\\frac{rT}{\\sigma\\sqrt{T}} + \\frac{\\sigma\\sqrt{T}}{2})\n",
        "$$"
      ]
    },
    {
      "cell_type": "markdown",
      "metadata": {},
      "source": [
        "$$\n",
        "\\sigma = 0.2, T = 0.25, r = 0.01 \\\\\n",
        "delta(x) \\approx 0.53 \n",
        "$$\n",
        "The delta approximation to two decimal places is 0.53."
      ]
    },
    {
      "cell_type": "markdown",
      "metadata": {},
      "source": [
        "## (b)"
      ]
    },
    {
      "cell_type": "markdown",
      "metadata": {},
      "source": [
        "Second Order Talyor's Expansion: \n",
        "\n",
        "$$\n",
        "C(S) = C(S_0) + \\frac{\\partial C}{\\partial S}(S - S_0) + \\frac{1}{2}\\frac{\\partial^2 C}{\\partial S^2}(S - S_0)^2 + O(S_0)^3\\\\\n",
        "=  C(S_0) + \\text{dollar delta }* \\frac{1}{S_0}*(S-S_0) + \\text{dollar gamma }* \\frac{50}{S_0^2}*(S-S_0)^2\\\\\n",
        "$$"
      ]
    },
    {
      "cell_type": "markdown",
      "metadata": {},
      "source": [
        "$$\n",
        "C(S) = 5 + 3 * (3.6- 4)/4 + 0.02 *(3.6-4)^2 * 50/ 4^2 = 4.71\n",
        "$$"
      ]
    }
  ],
  "metadata": {
    "anaconda-cloud": {},
    "colab": {
      "provenance": []
    },
    "kernelspec": {
      "display_name": "Python 3",
      "language": "python",
      "name": "python3"
    },
    "language_info": {
      "codemirror_mode": {
        "name": "ipython",
        "version": 3
      },
      "file_extension": ".py",
      "mimetype": "text/x-python",
      "name": "python",
      "nbconvert_exporter": "python",
      "pygments_lexer": "ipython3",
      "version": "3.11.3"
    },
    "toc": {
      "base_numbering": 1,
      "nav_menu": {},
      "number_sections": true,
      "sideBar": true,
      "skip_h1_title": false,
      "title_cell": "Table of Contents",
      "title_sidebar": "Contents",
      "toc_cell": false,
      "toc_position": {},
      "toc_section_display": true,
      "toc_window_display": false
    }
  },
  "nbformat": 4,
  "nbformat_minor": 0
}
