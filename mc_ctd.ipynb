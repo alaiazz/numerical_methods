{
  "cells": [
    {
      "cell_type": "code",
      "execution_count": 84,
      "metadata": {
        "id": "Dcd4oWAt46DD"
      },
      "outputs": [],
      "source": [
        "import numpy as np\n",
        "from scipy.stats import norm"
      ]
    },
    {
      "cell_type": "markdown",
      "metadata": {
        "id": "Jeby0NCp46DE"
      },
      "source": [
        "## Problem 1"
      ]
    },
    {
      "cell_type": "markdown",
      "metadata": {},
      "source": [
        "## (a)\n",
        "\n",
        "I choose to manually fill in the covariance matrix. Since $X^{[j]} = log S^{[j]}$, then, $dX_t^{[j]} = rdt + \\sigma_{[j]dW_t^{[j]}}$. \n",
        "\n",
        "\\begin{align*}\n",
        " cov(X_T^1,X_T^2) &= cov(log S_0^1 + \\int^T_0 r dt + \\int^T_0 \\sigma_1 dW_t^1,log S_0^2 + \\int^T_0 r dt + \\int^T_0 \\sigma_2 dW_t^2 ) \\\\\n",
        "& = cov ( \\int^T_0 \\sigma_1 dW_t^1,  \\int^T_0 \\sigma_2 dW_t^2) = cov(\\sigma_1W_T^1, \\sigma_2W_T^2)\\\\\n",
        "& = \\sigma_1\\sigma_2 cov(W_T^1,W_T^2) = 0.3 \\times 0.2 \\times 0.8 T  = 0.0048T \\\\\n",
        "& cov(X_T^1,X_T^1) = 0.09T \\\\\n",
        "& cov(X_T^2,X_T^1) = 0.0048T\\\\\n",
        "& cov(X_T^2,X_T^2) = 0.04T\\\\\n",
        "\\end{align*}"
      ]
    },
    {
      "cell_type": "markdown",
      "metadata": {},
      "source": [
        "## (b)"
      ]
    },
    {
      "cell_type": "markdown",
      "metadata": {},
      "source": [
        "We generate the correlated Brownian motion using the formula $LL^T = H$. And $X_T^{m} = X_0 = \\mu T + L \\sqrt{T}Z^{m}$"
      ]
    },
    {
      "cell_type": "code",
      "execution_count": 13,
      "metadata": {
        "id": "9xOrWGQY46DF"
      },
      "outputs": [],
      "source": [
        "class MultiGBM:\n",
        "\n",
        "    def __init__(self,S0,r,correlations,sigma):\n",
        "        self.S0 = S0\n",
        "        self.r = r\n",
        "        self.correlations = correlations\n",
        "        self.sigma = sigma"
      ]
    },
    {
      "cell_type": "code",
      "execution_count": 14,
      "metadata": {
        "id": "e0KMdNlr46DF"
      },
      "outputs": [],
      "source": [
        "hw6p1dynamics = MultiGBM(S0=np.array([100,110]),r=0.05,\n",
        "                         correlations = np.array([[1,0.8],[0.8,1]]),\n",
        "                         sigma = np.diag([0.3, 0.2]))"
      ]
    },
    {
      "cell_type": "code",
      "execution_count": 16,
      "metadata": {
        "id": "YuUREwvH46DF"
      },
      "outputs": [],
      "source": [
        "class CallOnBasket:\n",
        "\n",
        "    def __init__(self,K,T,weights):\n",
        "        self.K = K\n",
        "        self.T = T\n",
        "        self.weights = weights"
      ]
    },
    {
      "cell_type": "code",
      "execution_count": 17,
      "metadata": {
        "id": "52OH89tZ46DF"
      },
      "outputs": [],
      "source": [
        "hw6p1contract=CallOnBasket(K=110,T=1.0,weights = np.array([1/2, 1/2]))"
      ]
    },
    {
      "cell_type": "code",
      "execution_count": 89,
      "metadata": {
        "id": "aRA8B9a046DG"
      },
      "outputs": [],
      "source": [
        "class MCengine:\n",
        "\n",
        "    def __init__(self, M, antithetic, control, seed):\n",
        "        self.M = M                                   \n",
        "        self.antithetic = antithetic\n",
        "        self.control = control\n",
        "        self.rng = np.random.default_rng(seed=seed)  \n",
        "\n",
        "    def price_callonbasket_multiGBM(self,contract,dynamics):\n",
        "\n",
        "        L =  np.linalg.cholesky(dynamics.correlations)\n",
        "        sigma = dynamics.sigma\n",
        "        S0 = dynamics.S0\n",
        "        r = dynamics.r\n",
        "\n",
        "        T = contract.T\n",
        "        K = contract.K\n",
        "        weights = contract.weights\n",
        "\n",
        "        X_0 = np.ones((self.M, len(S0)))\n",
        "        X_0 = X_0 * np.log(S0)\n",
        "        X_0 = X_0.T\n",
        "        sigma_mat = (np.ones((self.M, len(S0))) * np.diag(sigma)).T\n",
        "        \n",
        "        dW_T = self.rng.multivariate_normal([0,0],dynamics.correlations,size = self.M)  * np.sqrt(T) \n",
        "        X_T = X_0 + (r-sigma_mat**2/2)*T + sigma.dot(L.dot(dW_T.T))\n",
        "\n",
        "        S_T = np.exp(X_T)\n",
        "        H_T = weights.dot(S_T)\n",
        "        C_T = np.exp(-r*T) * np.maximum(H_T-K, 0)\n",
        "\n",
        "        if self.antithetic: \n",
        "            X_T_a = X_0 + (r-sigma_mat**2/2)*T - sigma.dot(L.dot(dW_T.T))\n",
        "            S_T_a = np.exp(X_T_a)\n",
        "            H_T_a = weights.dot(S_T_a)\n",
        "            C_T_a = np.exp(-r*T) * np.maximum(H_T_a-K, 0)\n",
        "            C_T = (C_T + C_T_a)/2\n",
        "\n",
        "        def call_price_BS_formula(sigma, S, rGrow, r, T, K):\n",
        "            F= S*np.exp(rGrow*T)\n",
        "            sd = sigma*np.sqrt(T)\n",
        "            d1 = np.log(F/K)/sd+sd/2\n",
        "            d2 = d1-sd\n",
        "            return np.exp(-r*T)*(F*norm.cdf(d1)-K*norm.cdf(d2))\n",
        "        call_price = np.mean(C_T)\n",
        "        standard_error = np.std(C_T, ddof=1)/np.sqrt(self.M)\n",
        "    \n",
        "\n",
        "        if self.control: \n",
        "            # \\frac{\\sqrt{(\\sigma_1^2 + \\sigma^2_2 + 2\\rho\\sigma_1\\sigma_2)}}{2} \n",
        "            sigma_c = np.sqrt(sigma[0,0]**2 + sigma[1,1]**2 + 2*sigma[0,0]*sigma[1,1]*dynamics.correlations[0,1])/2\n",
        "            S_c = (S0[0]*S0[1])**0.5\n",
        "            #r + \\frac{-\\sigma^2_1-\\sigma^2_2  + 2\\rho\\sigma_1\\sigma_2}{8}\n",
        "            rGrow_c = r + (2*sigma[0,0]*sigma[1,1]*dynamics.correlations[0,1] - sigma[0,0]**2 - sigma[1,1]**2)/8\n",
        "            \n",
        "            C_BS = call_price_BS_formula(sigma_c, S_c, rGrow_c, r, T, K)\n",
        "\n",
        "            EY = np.exp(np.mean(X_T, axis = 0))\n",
        "            C_c = np.exp(-r*T) * np.maximum(EY-K, 0)\n",
        "            cov = np.cov(C_T, C_c)\n",
        "            beta = cov[0,1] / cov[1,1]\n",
        "\n",
        "            Y_c = C_T + beta*(C_BS - C_c)\n",
        "            call_price = np.mean(Y_c)\n",
        "            standard_error = np.std(Y_c, ddof=1) / np.sqrt(self.M)\n",
        "\n",
        "        return(call_price, standard_error)"
      ]
    },
    {
      "cell_type": "code",
      "execution_count": 79,
      "metadata": {
        "id": "rmREi1sy46DG"
      },
      "outputs": [
        {
          "name": "stdout",
          "output_type": "stream",
          "text": [
            "12.12467498776292 0.20758555753501975\n"
          ]
        }
      ],
      "source": [
        "hw6p1bMC=MCengine(M=10000,antithetic=False,control=False,seed=0)\n",
        "(call_price_ordinary, std_err_ordinary) = hw6p1bMC.price_callonbasket_multiGBM(hw6p1contract,hw6p1dynamics)\n",
        "print(call_price_ordinary, std_err_ordinary)"
      ]
    },
    {
      "cell_type": "markdown",
      "metadata": {},
      "source": [
        "The call price is approximately 12.12, and the standard error is approximately 0.2076. "
      ]
    },
    {
      "cell_type": "markdown",
      "metadata": {},
      "source": [
        "## (c)"
      ]
    },
    {
      "cell_type": "code",
      "execution_count": 83,
      "metadata": {
        "id": "6bLwGWTM46DG"
      },
      "outputs": [
        {
          "name": "stdout",
          "output_type": "stream",
          "text": [
            "12.214537629057864 0.11712125008722657\n"
          ]
        }
      ],
      "source": [
        "hw6p1cMC=MCengine(M=10000,antithetic=True,control=False,seed=0)\n",
        "(call_price_AV, std_err_AV) = hw6p1cMC.price_callonbasket_multiGBM(hw6p1contract,hw6p1dynamics)\n",
        "print(call_price_AV, std_err_AV)"
      ]
    },
    {
      "cell_type": "markdown",
      "metadata": {},
      "source": [
        "The call price under atithetic variance reduction is approximately 12.21, and the standard error is approximately 0.1171. "
      ]
    },
    {
      "cell_type": "markdown",
      "metadata": {},
      "source": [
        "## (d)\n",
        "\n",
        "\\begin{align*}\n",
        "& E[log G_T] = E[log (\\frac{1}{2}S_1 S_2)] = 1/2E[log S_1] + 1/2 E[log S_2] \\\\\n",
        "& = 1/2[log(S_0^{[1]}) + (r- 1/2 \\sigma_1^2)T + log(S_0^{[2]}) + (r - 1/2 \\sigma_2^2)T] \\\\ \n",
        "& = \\frac{1}{2} log(S_0^{[1]}S_0^{[2]}) (r- \\frac{\\sigma^2_1+\\sigma^2_2}{4})T \\\\\n",
        "\n",
        "& Var[log G_T] = 1/4Var[log S_1 + log S_2] = 1/4[(var(log S_1) + var(log S_2) + 2 cov(log S_1, log S_2))T] \\\\\n",
        "& = \\frac{(\\sigma_1^2 + \\sigma^2_2 + 2\\rho\\sigma_1\\sigma_2)T}{4}\n",
        "\\end{align*}"
      ]
    },
    {
      "cell_type": "markdown",
      "metadata": {},
      "source": [
        "## (e)\n",
        "\n",
        "According to lec 6 Finm330: $C^G = C(G_0,0,K,T,R_{grow},r,\\sigma)$.\n",
        "\n",
        "$r = R_{grow} - 1/2 \\sigma^2$\n",
        "\n",
        "$R_{grow} = r + 1/2 \\sigma^2$\n",
        "\n",
        "$r + \\sigma^2 /2 = r- \\frac{\\sigma^2_1+\\sigma^2_2}{4} + \\frac{(\\sigma_1^2 + \\sigma^2_2 + 2\\rho\\sigma_1\\sigma_2)}{8}  = r + \\frac{-\\sigma^2_1-\\sigma^2_2  + 2\\rho\\sigma_1\\sigma_2}{8}$\n",
        "\n",
        "$C^G = C^{BS} ((S_0^{[1]}S_0^{[2]})^{1/2},0,K,T,r + \\frac{-\\sigma^2_1-\\sigma^2_2  + 2\\rho\\sigma_1\\sigma_2}{8},r,\\frac{\\sqrt{(\\sigma_1^2 + \\sigma^2_2 + 2\\rho\\sigma_1\\sigma_2)}}{2} )$"
      ]
    },
    {
      "cell_type": "markdown",
      "metadata": {},
      "source": [
        "## (f)"
      ]
    },
    {
      "cell_type": "code",
      "execution_count": 90,
      "metadata": {
        "id": "VBGSqqgY46DG"
      },
      "outputs": [
        {
          "name": "stdout",
          "output_type": "stream",
          "text": [
            "9.889660529217075 0.00203055502895262\n"
          ]
        }
      ],
      "source": [
        "hw6p1fMC=MCengine(M=10000,antithetic=False,control=True,seed=0)\n",
        "(call_price_CV, std_err_CV) = hw6p1fMC.price_callonbasket_multiGBM(hw6p1contract,hw6p1dynamics)\n",
        "print(call_price_CV, std_err_CV)"
      ]
    },
    {
      "cell_type": "markdown",
      "metadata": {},
      "source": [
        "The call price is roughly 9.89, and the standard error is approximately 0.0020"
      ]
    },
    {
      "cell_type": "markdown",
      "metadata": {
        "id": "qGknbqw346DG"
      },
      "source": [
        "## Problem 2"
      ]
    },
    {
      "cell_type": "code",
      "execution_count": 91,
      "metadata": {
        "id": "7Ij9oOIK46DH"
      },
      "outputs": [],
      "source": [
        "class GBM:\n",
        "\n",
        "    def __init__(self,sigma,r,S0):\n",
        "        self.sigma = sigma\n",
        "        self.r = r\n",
        "        self.S0 = S0"
      ]
    },
    {
      "cell_type": "code",
      "execution_count": 92,
      "metadata": {
        "id": "sJlC7Oer46DH"
      },
      "outputs": [],
      "source": [
        "hw6p2dynamics=GBM(sigma=0.2,r=0.02,S0=100)"
      ]
    },
    {
      "cell_type": "code",
      "execution_count": 93,
      "metadata": {
        "id": "YwUReruu46DH"
      },
      "outputs": [],
      "source": [
        "class CallOption:\n",
        "\n",
        "    def __init__(self,K,T):\n",
        "        self.K=K\n",
        "        self.T=T"
      ]
    },
    {
      "cell_type": "code",
      "execution_count": 94,
      "metadata": {
        "id": "s-s2e_F246DH"
      },
      "outputs": [],
      "source": [
        "hw6p2contract=CallOption(K=150,T=1)"
      ]
    },
    {
      "cell_type": "code",
      "execution_count": 105,
      "metadata": {
        "id": "XkV2FaBs46DH"
      },
      "outputs": [],
      "source": [
        "class MCimportanceEngine:\n",
        "\n",
        "    def __init__(self, M, lamb, seed):\n",
        "        self.M = M                                  \n",
        "        self.lamb = lamb                            \n",
        "        self.rng = np.random.default_rng(seed=seed) \n",
        "\n",
        "    def price_call_GBM(self, contract,dynamics):\n",
        "\n",
        "        S0 = dynamics.S0\n",
        "        r = dynamics.r\n",
        "        sigma = dynamics.sigma\n",
        "        T = contract.T\n",
        "        K = contract.K\n",
        "        Z = self.rng.normal(size = self.M)\n",
        "\n",
        "        X_T = np.log(S0) + (r - sigma**2/2)*T + sigma*np.sqrt(T)*(Z+self.lamb*T)\n",
        "        S_T = np.exp(X_T)\n",
        "        C_T = np.exp(-r*T-self.lamb*Z -0.5*(self.lamb**2*T)) * np.maximum(S_T-K, 0)\n",
        "\n",
        "        call_price = np.mean(C_T)\n",
        "        standard_error = np.std(C_T, ddof=1)/np.sqrt(self.M)\n",
        "\n",
        "        return(call_price, standard_error)\n"
      ]
    },
    {
      "cell_type": "markdown",
      "metadata": {},
      "source": [
        "## (a)"
      ]
    },
    {
      "cell_type": "code",
      "execution_count": 106,
      "metadata": {
        "id": "WccmST9O46DH"
      },
      "outputs": [
        {
          "name": "stdout",
          "output_type": "stream",
          "text": [
            "0.25270332833609405 0.007609293292996182\n"
          ]
        }
      ],
      "source": [
        "hw6p2aMC=MCimportanceEngine(M=100000,lamb=0,seed=0) \n",
        "(call_price_ordinary, std_err_ordinary) =  hw6p2aMC.price_call_GBM(hw6p2contract,hw6p2dynamics)\n",
        "print(call_price_ordinary, std_err_ordinary)"
      ]
    },
    {
      "cell_type": "markdown",
      "metadata": {},
      "source": [
        "The price of vanilla call option is 0.2527, and the standard error is approximatly 0.0076."
      ]
    },
    {
      "cell_type": "markdown",
      "metadata": {},
      "source": [
        "## (b)\n",
        "\n",
        "According to L6.21, $E[S_T]= S_0 e^{(r+\\sigma \\lambda)T}$.\n",
        "\n",
        "$165 = 100 exp(0.02 + 0.2\\lambda)$\n",
        "\n",
        "$\\lambda = 2.40387$\n"
      ]
    },
    {
      "cell_type": "markdown",
      "metadata": {},
      "source": [
        "## (c)"
      ]
    },
    {
      "cell_type": "code",
      "execution_count": 107,
      "metadata": {
        "id": "wjwZIDnU46DH"
      },
      "outputs": [
        {
          "name": "stdout",
          "output_type": "stream",
          "text": [
            "0.2484366181965453 0.000773428279853675\n"
          ]
        }
      ],
      "source": [
        "hw6p2cMC=MCimportanceEngine(M=100000,lamb= 2.40387,seed=0) # Fill in the lamb parameter with the lambda that you compute in (b)\n",
        "(call_price_importsamp, std_err_importsamp) =  hw6p2cMC.price_call_GBM(hw6p2contract,hw6p2dynamics)\n",
        "print(call_price_importsamp, std_err_importsamp)"
      ]
    },
    {
      "cell_type": "markdown",
      "metadata": {},
      "source": [
        "The price of vanilla call option is 0.2484, and the standard error is approximatly 0.00077."
      ]
    }
  ],
  "metadata": {
    "anaconda-cloud": {},
    "colab": {
      "provenance": []
    },
    "kernelspec": {
      "display_name": "Python 3",
      "language": "python",
      "name": "python3"
    },
    "language_info": {
      "codemirror_mode": {
        "name": "ipython",
        "version": 3
      },
      "file_extension": ".py",
      "mimetype": "text/x-python",
      "name": "python",
      "nbconvert_exporter": "python",
      "pygments_lexer": "ipython3",
      "version": "3.11.3"
    },
    "toc": {
      "base_numbering": 1,
      "nav_menu": {},
      "number_sections": true,
      "sideBar": true,
      "skip_h1_title": false,
      "title_cell": "Table of Contents",
      "title_sidebar": "Contents",
      "toc_cell": false,
      "toc_position": {},
      "toc_section_display": true,
      "toc_window_display": false
    }
  },
  "nbformat": 4,
  "nbformat_minor": 0
}
