{
  "cells": [
    {
      "cell_type": "markdown",
      "metadata": {},
      "source": [
        "# Problem 1 "
      ]
    },
    {
      "cell_type": "markdown",
      "metadata": {},
      "source": [
        "## (a)\n",
        "\n",
        "\\begin{align*}\n",
        "dC(r_t,t) &= \\frac{\\partial C}{\\partial r_t}(r_t,t) dr_t + \\frac{\\partial C}{\\partial t}(r_t,t) dt + \\frac{1}{2} \\frac{\\partial^2 C}{\\partial r_t^2}(r_t,t) \\langle dr_t, dr_t \\rangle \\\\\n",
        "dC(r_t,t) &= \\frac{\\partial C}{\\partial r_t}(r_t,t) dr_t + \\frac{\\partial C}{\\partial t}(r_t,t) dt + \\frac{1}{2} \\frac{\\partial^2 C}{\\partial r_t^2}(r_t,t) \\beta^2(r_t,t) dt \\\\\n",
        "\\Rightarrow & \\frac{\\partial C}{\\partial r_t}(r_t,t) \\alpha(r_t, t) dt + \\frac{\\partial C}{\\partial t}(r_t,t) dt + \\frac{1}{2} \\frac{\\partial^2 C}{\\partial r_t^2}(r_t,t) \\beta^2(r_t,t) dt = rC \\\\\n",
        "\\Rightarrow & \\left(\\frac{\\partial C}{\\partial r_t} \\alpha(r_t, t) + \\frac{\\partial C}{\\partial t} + \\frac{1}{2} \\frac{\\partial^2 C}{\\partial r_t^2} \\beta^2(r_t,t)\\right) dt = rC dt\n",
        "\\end{align*}\n"
      ]
    },
    {
      "cell_type": "markdown",
      "metadata": {},
      "source": [
        "## (b)"
      ]
    },
    {
      "cell_type": "code",
      "execution_count": 1,
      "metadata": {
        "id": "MjZ7LuUcTu17"
      },
      "outputs": [],
      "source": [
        "import numpy as np"
      ]
    },
    {
      "cell_type": "code",
      "execution_count": 2,
      "metadata": {
        "id": "3LaJWkN1Tu1_"
      },
      "outputs": [],
      "source": [
        "class Vasicek:\n",
        "\n",
        "    def __init__(self,kappa,theta,sigma):\n",
        "        self.kappa=kappa\n",
        "        self.theta=theta\n",
        "        self.sigma=sigma"
      ]
    },
    {
      "cell_type": "code",
      "execution_count": 3,
      "metadata": {
        "id": "el5nStVUTu2A"
      },
      "outputs": [],
      "source": [
        "hw3dynamics = Vasicek(kappa=3,theta=0.05,sigma=0.03)"
      ]
    },
    {
      "cell_type": "code",
      "execution_count": 4,
      "metadata": {
        "id": "riJtW90ITu2B"
      },
      "outputs": [],
      "source": [
        "class Bond:\n",
        "\n",
        "    def __init__(self, T):\n",
        "        self.T=T\n"
      ]
    },
    {
      "cell_type": "code",
      "execution_count": 5,
      "metadata": {
        "id": "-o3SCZyDTu2B"
      },
      "outputs": [],
      "source": [
        "hw3contract = Bond(T=5)"
      ]
    },
    {
      "cell_type": "code",
      "execution_count": 6,
      "metadata": {
        "id": "ppGipd6OTu2C"
      },
      "outputs": [],
      "source": [
        "class FDexplicitEngine:\n",
        "\n",
        "    def __init__(self, rMax, rMin, deltar, deltat, useUpwind):\n",
        "        self.rMax=rMax\n",
        "        self.rMin=rMin\n",
        "        self.deltar=deltar\n",
        "        self.deltat=deltat\n",
        "        self.useUpwind=useUpwind\n",
        "\n",
        "    def price_bond_vasicek(self,contract,dynamics):\n",
        "\n",
        "\n",
        "        T = contract.T\n",
        "        N=round(T/self.deltat)\n",
        "        if abs(N-T/self.deltat) > 1e-12:\n",
        "            raise ValueError(\"Bad delta t\")\n",
        "\n",
        "        r=np.arange(self.rMax,self.rMin-self.deltar/2,-self.deltar)  \n",
        "        bondprice=np.ones(np.size(r))\n",
        "\n",
        "        if self.useUpwind:\n",
        "            nu= dynamics.kappa*(dynamics.theta - r)\n",
        "            p1 = (np.power(dynamics.sigma, 2) * self.deltat) / (2 * np.power(self.deltar, 2))\n",
        "            p2 = self.deltat / self.deltar * nu\n",
        "            indicator = np.where(r < dynamics.theta, 1, 0)\n",
        "            qu=  p1 + p2 * indicator    \n",
        "            qd= p1 + p2 * (indicator-1)    \n",
        "            qm= 1-qu-qd  \n",
        "        else:\n",
        "            # drt = kappa(theta - rt)dt + sigmadWt \n",
        "            nu = dynamics.kappa*(dynamics.theta - r)\n",
        "            qu= (dynamics.sigma**2*self.deltat/(self.deltar **2) + nu*self.deltat/self.deltar)/2    \n",
        "            qd= (dynamics.sigma**2*self.deltat/(self.deltar **2) - nu*self.deltat/self.deltar)/2   \n",
        "            qm= 1-qu-qd  \n",
        "\n",
        "        for t in np.arange(N-1,-1,-1)*self.deltat:\n",
        "            bondprice=1/(1+r*self.deltat)*(qd*np.roll(bondprice,-1)+qm*bondprice+qu*np.roll(bondprice,1))\n",
        "\n",
        "\n",
        "            bondprice[0]=2*bondprice[1]-bondprice[2]\n",
        "            bondprice[-1]=2*bondprice[-2]-bondprice[-3]\n",
        "\n",
        "        return (r, bondprice)\n"
      ]
    },
    {
      "cell_type": "code",
      "execution_count": 7,
      "metadata": {
        "id": "MaN40DRPTu2C"
      },
      "outputs": [],
      "source": [
        "hw3FD = FDexplicitEngine(rMax=0.35,rMin=-0.25,deltar=0.01,deltat=0.01,useUpwind=False)"
      ]
    },
    {
      "cell_type": "code",
      "execution_count": 8,
      "metadata": {
        "id": "5-2f6MdVTu2D"
      },
      "outputs": [],
      "source": [
        "(r, bondprice) = hw3FD.price_bond_vasicek(hw3contract,hw3dynamics)"
      ]
    },
    {
      "cell_type": "code",
      "execution_count": 9,
      "metadata": {
        "id": "zABkzmu3Tu2D"
      },
      "outputs": [],
      "source": [
        "np.set_printoptions(precision=4,suppress=True)\n",
        "displayrows=(r<0.15+hw3FD.deltar/2) & (r>0.0-hw3FD.deltar/2)"
      ]
    },
    {
      "cell_type": "code",
      "execution_count": 10,
      "metadata": {
        "id": "fFU_iyFVTu2E"
      },
      "outputs": [
        {
          "name": "stdout",
          "output_type": "stream",
          "text": [
            "[[ 1.5000e-01 -1.4273e+09]\n",
            " [ 1.4000e-01  1.6361e+08]\n",
            " [ 1.3000e-01  2.2294e+07]\n",
            " [ 1.2000e-01 -1.3724e+06]\n",
            " [ 1.1000e-01 -1.3361e+05]\n",
            " [ 1.0000e-01  3.2966e+03]\n",
            " [ 9.0000e-02  1.3021e+02]\n",
            " [ 8.0000e-02  7.7128e-01]\n",
            " [ 7.0000e-02  7.7385e-01]\n",
            " [ 6.0000e-02  7.7643e-01]\n",
            " [ 5.0000e-02  7.7902e-01]\n",
            " [ 4.0000e-02  7.8162e-01]\n",
            " [ 3.0000e-02  7.8423e-01]\n",
            " [ 2.0000e-02  7.8685e-01]\n",
            " [ 1.0000e-02  1.4165e+03]\n",
            " [-3.3307e-16  5.1498e+04]]\n"
          ]
        }
      ],
      "source": [
        "print(np.stack((r, bondprice),axis=1)[displayrows])"
      ]
    },
    {
      "cell_type": "markdown",
      "metadata": {},
      "source": [
        "## (d)\n",
        "\n",
        "\\begin{align*}\n",
        "& \\text{Known by Taylor Approximation: } f(x) = f(a) + f'(a)(x-a) + O((x-a)^2) \\\\\n",
        "& \\text{Suppose } a = x, \\text{ and } x = x+h, \\text{ then } f(x+h) = f(x) + f'(x)(h) + O(h^2) \\Rightarrow f(x+h)-f(x)-f'(x) \\times h = \\frac{O(h^2)}{h} \\\\ \n",
        "& |\\frac{f(x+h)-f(x)}{h} - f'(x)| = O(h) \\\\ \n",
        "\n",
        "& \\text{Similarly: } \\\\\n",
        "& f(x+h) = f(x) + f'(x)h + \\frac{1}{2}f''(x)h^2 + O(h^3), \\\\\n",
        "& f(x-h) = f(x) - f'(x)h + \\frac{1}{2}f''(x)h^2 - O(h^3); \\\\\n",
        "& \\Rightarrow f(x+h) - f(x-h) = 2hf'(x) + 2O(h^3) \\\\ \n",
        "& |\\frac{f(x+h) - f(x-h)}{2h} - f'(x)| = O(h^2) \\\\ \n",
        "\\end{align*}\n"
      ]
    },
    {
      "cell_type": "markdown",
      "metadata": {},
      "source": [
        "## (e)"
      ]
    },
    {
      "cell_type": "code",
      "execution_count": 11,
      "metadata": {},
      "outputs": [
        {
          "name": "stdout",
          "output_type": "stream",
          "text": [
            "[[ 0.15    0.7536]\n",
            " [ 0.14    0.7561]\n",
            " [ 0.13    0.7586]\n",
            " [ 0.12    0.7611]\n",
            " [ 0.11    0.7637]\n",
            " [ 0.1     0.7662]\n",
            " [ 0.09    0.7688]\n",
            " [ 0.08    0.7713]\n",
            " [ 0.07    0.7739]\n",
            " [ 0.06    0.7765]\n",
            " [ 0.05    0.7791]\n",
            " [ 0.04    0.7817]\n",
            " [ 0.03    0.7843]\n",
            " [ 0.02    0.7869]\n",
            " [ 0.01    0.7895]\n",
            " [-0.      0.7922]]\n"
          ]
        }
      ],
      "source": [
        "hw3FD_up = FDexplicitEngine(rMax=0.35,rMin=-0.25,deltar=0.01,deltat=0.01,useUpwind=True)\n",
        "(r, bondprice) = hw3FD_up.price_bond_vasicek(hw3contract,hw3dynamics)\n",
        "np.set_printoptions(precision=4,suppress=True)\n",
        "displayrows=(r<0.15+hw3FD.deltar/2) & (r>0.0-hw3FD.deltar/2)\n",
        "print(np.stack((r, bondprice),axis=1)[displayrows])"
      ]
    },
    {
      "cell_type": "code",
      "execution_count": 12,
      "metadata": {},
      "outputs": [
        {
          "name": "stdout",
          "output_type": "stream",
          "text": [
            "[[ 1.5000e-01 -1.4273e+09]\n",
            " [ 1.4000e-01  1.6361e+08]\n",
            " [ 1.3000e-01  2.2294e+07]\n",
            " [ 1.2000e-01 -1.3724e+06]\n",
            " [ 1.1000e-01 -1.3361e+05]\n",
            " [ 1.0000e-01  3.2966e+03]\n",
            " [ 9.0000e-02  1.3021e+02]\n",
            " [ 8.0000e-02  7.7128e-01]\n",
            " [ 7.0000e-02  7.7385e-01]\n",
            " [ 6.0000e-02  7.7643e-01]\n",
            " [ 5.0000e-02  7.7902e-01]\n",
            " [ 4.0000e-02  7.8162e-01]\n",
            " [ 3.0000e-02  7.8423e-01]\n",
            " [ 2.0000e-02  7.8685e-01]\n",
            " [ 1.0000e-02  1.4165e+03]\n",
            " [-3.3307e-16  5.1498e+04]]\n"
          ]
        }
      ],
      "source": [
        "hw3FD_cd = FDexplicitEngine(rMax=0.35,rMin=-0.25,deltar=0.01,deltat=0.01,useUpwind=False)\n",
        "(r, bondprice) = hw3FD_cd.price_bond_vasicek(hw3contract,hw3dynamics)\n",
        "np.set_printoptions(precision=4,suppress=True)\n",
        "displayrows=(r<0.15+hw3FD_cd.deltar/2) & (r>0.0-hw3FD_cd.deltar/2)\n",
        "print(np.stack((r, bondprice),1)[displayrows])"
      ]
    },
    {
      "cell_type": "markdown",
      "metadata": {},
      "source": [
        "The upwind method is more accurate. "
      ]
    },
    {
      "cell_type": "markdown",
      "metadata": {},
      "source": [
        "## (f)\n",
        "less, greater "
      ]
    },
    {
      "cell_type": "markdown",
      "metadata": {},
      "source": [
        "## (g)\n",
        "\n",
        "When $r_0=0.12$, $P_0=0.7611$, so $YTM=log(P_T/P_0)/(T-t)=log(1/0.7611)/5=0.0546$.\n",
        "\n",
        "When $r_0=0.02$, $P_0= 0.7869$, so $YTM=log(P_T/P_0)/(T-t)=log(1/ 0.7869)/5=0.0479$. \n",
        "\n",
        "When $r_0=0.12$, the drift term is negative. This negative drift serves to pull down $r_t$ in subsequent periods. Inversely, when $r_0=0.02$, the drift term is positive. This postive drift serves to moves up $r_t$ in subsequent periods. "
      ]
    },
    {
      "cell_type": "markdown",
      "metadata": {},
      "source": [
        "# Problem 2 "
      ]
    },
    {
      "cell_type": "markdown",
      "metadata": {},
      "source": [
        "## (a)\n",
        "\n",
        "\\begin{align*}\n",
        "\n",
        "& \\Delta = N(d_1) = N(\\frac{ln(\\frac{S_0}{K})+(r+\\frac{\\sigma^2}{2})T}{\\sigma \\sqrt{T}})\\\\\n",
        "\n",
        "& N^{-1}(\\Delta) = \\frac{ln(\\frac{S_0}{K})+(r+\\frac{\\sigma^2}{2})T}{\\sigma \\sqrt{T}}\\\\\n",
        "& N^{-1}(\\Delta)\\sigma \\sqrt{T} - (r+\\frac{\\sigma^2}{2})T = ln(\\frac{S_0}{K})\\\\\n",
        "\n",
        "& K = \\frac{S_0}{e^{N^{-1}(\\Delta)\\sigma \\sqrt{T} - (r+\\frac{\\sigma^2}{2})T}}\\\\\n",
        "\\end{align*}"
      ]
    },
    {
      "cell_type": "markdown",
      "metadata": {},
      "source": [
        "## (b)"
      ]
    },
    {
      "cell_type": "code",
      "execution_count": 13,
      "metadata": {},
      "outputs": [],
      "source": [
        "from scipy.stats import norm"
      ]
    },
    {
      "cell_type": "code",
      "execution_count": 14,
      "metadata": {},
      "outputs": [],
      "source": [
        "def calc_K(sigma,T,Delta,r,S0):\n",
        "    part1 = norm.ppf(Delta)*sigma*np.sqrt(T) - (r+ (sigma**2/2))*T\n",
        "    k = S0/np.exp(part1) \n",
        "    return k \n",
        "\n",
        "def black_scholes_call_price(S, K, T, r, sigma):\n",
        "    d1 = (np.log(S / K) + (r + 0.5 * sigma ** 2) * T) / (sigma * np.sqrt(T))\n",
        "    d2 = d1 - sigma * np.sqrt(T)\n",
        "    call_price = S * norm.cdf(d1) - K * np.exp(-r * T) * norm.cdf(d2)\n",
        "    \n",
        "    return call_price\n"
      ]
    },
    {
      "cell_type": "code",
      "execution_count": 15,
      "metadata": {},
      "outputs": [],
      "source": [
        "k25 = calc_K(0.4,1/12,0.25,0.01,300)\n",
        "k75 = calc_K(0.4,1/12,0.75,0.01,300)\n",
        "\n",
        "c25 = black_scholes_call_price(300,k25,1/12,0.01,0.4)\n",
        "c75 = black_scholes_call_price(300,k75,1/12,0.01,0.4)"
      ]
    },
    {
      "cell_type": "code",
      "execution_count": 16,
      "metadata": {},
      "outputs": [
        {
          "name": "stdout",
          "output_type": "stream",
          "text": [
            "The strike of delta-25 is 326.7404, and the call price is 4.8826.\n",
            "The strike of delta-75 is 279.6109, and the call price is 26.1036.\n"
          ]
        }
      ],
      "source": [
        "print(f'The strike of delta-25 is {round(k25,4)}, and the call price is {round(c25,4)}.')\n",
        "print(f'The strike of delta-75 is {round(k75,4)}, and the call price is {round(c75,4)}.')"
      ]
    },
    {
      "cell_type": "markdown",
      "metadata": {},
      "source": [
        "## (c)"
      ]
    },
    {
      "cell_type": "code",
      "execution_count": 17,
      "metadata": {},
      "outputs": [
        {
          "name": "stdout",
          "output_type": "stream",
          "text": [
            "lambda of delta25: 15.360693494609105\n",
            "lambda of delta75: 8.6195130132366\n"
          ]
        }
      ],
      "source": [
        "lambda25 = 0.25* 300/c25\n",
        "lambda75 = 0.75*300/c75\n",
        "print(f'lambda of delta25: {lambda25}')\n",
        "print(f'lambda of delta75: {lambda75}')"
      ]
    },
    {
      "cell_type": "markdown",
      "metadata": {},
      "source": [
        "Delta-25 gives more leverage. "
      ]
    }
  ],
  "metadata": {
    "anaconda-cloud": {},
    "colab": {
      "provenance": []
    },
    "kernelspec": {
      "display_name": "Python 3",
      "language": "python",
      "name": "python3"
    },
    "language_info": {
      "codemirror_mode": {
        "name": "ipython",
        "version": 3
      },
      "file_extension": ".py",
      "mimetype": "text/x-python",
      "name": "python",
      "nbconvert_exporter": "python",
      "pygments_lexer": "ipython3",
      "version": "3.11.3"
    },
    "toc": {
      "base_numbering": 1,
      "nav_menu": {},
      "number_sections": true,
      "sideBar": true,
      "skip_h1_title": false,
      "title_cell": "Table of Contents",
      "title_sidebar": "Contents",
      "toc_cell": false,
      "toc_position": {},
      "toc_section_display": true,
      "toc_window_display": false
    }
  },
  "nbformat": 4,
  "nbformat_minor": 0
}
