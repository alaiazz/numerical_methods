{
  "cells": [
    {
      "cell_type": "code",
      "execution_count": 1,
      "metadata": {
        "id": "-NynHt7uaJEW"
      },
      "outputs": [],
      "source": [
        "import numpy as np\n",
        "from scipy.stats import norm\n",
        "from scipy.optimize import bisect, brentq\n",
        "from copy import copy\n",
        "from decimal import Decimal"
      ]
    },
    {
      "cell_type": "markdown",
      "metadata": {
        "id": "lzNNfR6eaJEY"
      },
      "source": [
        "# Problem 1"
      ]
    },
    {
      "cell_type": "code",
      "execution_count": 2,
      "metadata": {
        "id": "FH5lK0IDaJEZ"
      },
      "outputs": [],
      "source": [
        "class UpAndOutPut:\n",
        "\n",
        "    def __init__(self, K, T, barrier, observationinterval):\n",
        "        self.K = K\n",
        "        self.T = T\n",
        "        self.barrier = barrier\n",
        "        self.observationinterval = observationinterval"
      ]
    },
    {
      "cell_type": "code",
      "execution_count": 3,
      "metadata": {
        "id": "zu38EM-xaJEZ"
      },
      "outputs": [],
      "source": [
        "hw1contract = UpAndOutPut(K=95, T=0.25, barrier=114, observationinterval=0.02)"
      ]
    },
    {
      "cell_type": "code",
      "execution_count": 4,
      "metadata": {
        "id": "3QnpHnhEaJEa"
      },
      "outputs": [],
      "source": [
        "class GBMdynamics:\n",
        "\n",
        "    def __init__(self, S, r, rGrow, sigma=None):\n",
        "        self.S = S\n",
        "        self.r = r\n",
        "        self.rGrow = rGrow\n",
        "        self.sigma = sigma\n",
        "\n",
        "    def update_sigma(self, sigma):\n",
        "        self.sigma = sigma\n",
        "        return self"
      ]
    },
    {
      "cell_type": "code",
      "execution_count": 5,
      "metadata": {
        "id": "OlOqBwRSaJEa"
      },
      "outputs": [],
      "source": [
        "hw1dynamics = GBMdynamics(S=100, sigma=0.4, rGrow=0, r=0)"
      ]
    },
    {
      "cell_type": "code",
      "execution_count": 18,
      "metadata": {
        "id": "yxrJL5bIaJEa"
      },
      "outputs": [],
      "source": [
        "class TreeEngine:\n",
        "\n",
        "    def __init__(self, N):\n",
        "        self.N = N\n",
        "\n",
        "    def price_upandout(self, dynamics, contract):\n",
        "\n",
        "        deltat = contract.T / self.N\n",
        "        J = np.ceil(np.log(contract.barrier/dynamics.S)/(dynamics.sigma*np.sqrt(3*deltat))-0.5)\n",
        "        deltax = np.log(contract.barrier/dynamics.S)/(J+0.5)\n",
        "\n",
        "        Sgrid = dynamics.S*np.exp(np.linspace(self.N, -self.N, num=2*self.N+1, endpoint=True)*deltax)\n",
        "        numTimestepsPerObs = contract.observationinterval/deltat\n",
        "        if abs(numTimestepsPerObs-round(numTimestepsPerObs)) > 1e-8:\n",
        "            raise ValueError(\"This value of N fails to place the observation dates in the tree.\")\n",
        "\n",
        "        #slide 45 lec 1 \n",
        "        nu = dynamics.rGrow - 0.5*(dynamics.sigma**2)       \n",
        "        Pu = 0.5*((dynamics.sigma**2 * deltat + nu**2 * deltat**2)/(deltax**2)+(nu*deltat)/(deltax))       \n",
        "        Pd = 0.5*((dynamics.sigma**2 * deltat + nu**2 * deltat**2)/(deltax**2)-(nu*deltat)/(deltax))      \n",
        "        Pm = 1 - Pu - Pd      \n",
        "\n",
        "        optionprice = np.maximum(contract.K-Sgrid,0)  \n",
        "\n",
        "        for t in np.linspace(self.N-1, 0, num=self.N, endpoint=True)*deltat:\n",
        "\n",
        "            optionprice = np.exp(-dynamics.r*deltat) * optionprice[:-2] * Pu + optionprice[1:-1] * Pm + optionprice[2:] * Pd\n",
        "            if abs(t/contract.observationinterval-round(t/contract.observationinterval)) < 1e-8:\n",
        "                Sgrid_ob = Sgrid[1:-1] \n",
        "                optionprice = np.where(Sgrid_ob >= contract.barrier, 0, optionprice)        \n",
        "            Sgrid = Sgrid[1:-1]\n",
        "        return optionprice[0]\n",
        "\n"
      ]
    },
    {
      "cell_type": "code",
      "execution_count": 19,
      "metadata": {
        "id": "xWliOTz8aJEb",
        "scrolled": false
      },
      "outputs": [
        {
          "data": {
            "text/plain": [
              "5.301058572410862"
            ]
          },
          "execution_count": 19,
          "metadata": {},
          "output_type": "execute_result"
        }
      ],
      "source": [
        "hw1tree=TreeEngine(N=100000)\n",
        "\n",
        "hw1tree.price_upandout(hw1dynamics, hw1contract)"
      ]
    },
    {
      "cell_type": "markdown",
      "metadata": {},
      "source": [
        "### (b)"
      ]
    },
    {
      "cell_type": "markdown",
      "metadata": {},
      "source": [
        "From part a, we know that the price of up-and-out put is roughly 5.3010. If we write down the formula for the up-and-out put as well as up-and-in put: \n",
        "$$\\text{up-and-out P} = (K-S_T)^+1_{max t \\in \\tau S_t < H} \\\\ \\text{up-and-in P} = (K-S_T)^+1_{max t \\in \\tau S_t \\geq H} \\\\ \\text{European P} = (K-S_T)^+ \\\\$$\n",
        "\n",
        "European P = up-and-out P + up-and-in P\n",
        "\n",
        "According to BS Formula, we can get: \n",
        "$$\\text{European p} = e^{-rT}KN(-d_2)-S(0)N(-d_1) = 95*N(-0.156)-100*N(-0.356) = 5.5195\\\\ \\text{up-and-in put(0)} = 5.5195 - 5.3010 = 0.2185$$"
      ]
    },
    {
      "cell_type": "markdown",
      "metadata": {},
      "source": [
        "### (c.1)"
      ]
    },
    {
      "cell_type": "markdown",
      "metadata": {},
      "source": [
        "The option price should be lower, since the monitoring period is longer, there is a higher chance that teh put option will gain 0 at the end. Therefore, considering the trinomial tree model, more nodes might become 0, which lead to a lower value."
      ]
    },
    {
      "cell_type": "markdown",
      "metadata": {},
      "source": [
        "### (c.2)"
      ]
    },
    {
      "cell_type": "markdown",
      "metadata": {},
      "source": [
        "Setup:\n",
        "$$\n",
        "p(K_p = 95, T = 0.25, \\sigma = 0.4, r = 0); p(0) = 5.5195 \\\\\n",
        "c(K_c = 136.8, T = 0.25, \\sigma = 0.4, r = 0); c(0) = 0.586\\\\\n",
        "\\text{At barrier case: } C_{114} = N(d_1)*114-136.8*N(d_2), P_{114} = 95*N(-d_2) - N(-d_1)*114  \\\\\n",
        "ln(114/95) = 0.18232155679 = -ln(114/136.8) = a \\\\\n",
        "d_1^{call} = \\frac{1}{0.4\\sqrt{T-t}}[a +\\frac{0.4^2}{2}*(T-t)] \\\\\n",
        "d_2^{call} = d_1^{call} - 0.04\\sqrt{T-t}\\\\\n",
        "-d_1^{put} =  \\frac{1}{0.4\\sqrt{T-t}}[a -\\frac{0.4^2}{2}*(T-t)] = d_2^{call} \\\\\n",
        "-d_2^{put} = \\frac{1}{0.4\\sqrt{T-t}}[a -\\frac{0.4^2}{2}*(T-t)] + 0.04\\sqrt{T-t}= d_1^{call} \\\\\n",
        "\n",
        "C(t) = N(d_1^{call}) * 114 - N(d_2^{call}) * 136.8 \\\\\n",
        "P(t) = N(d_1^{call}) * 95 - N(d_2^{call}) * 114 \\\\ \n",
        "P(t) - \\alpha C(t) =  (-114*\\alpha + 95)N(d_1^{call}) +(136.8*\\alpha - 114)N(d_2^{call}) = 0\\\\\n",
        "\\alpha = 0.833333 \\\\\n",
        "p(cts) = 5.5195 - 0.586 * 0.8333 = 5.0311862\n",
        "$$\n"
      ]
    },
    {
      "cell_type": "markdown",
      "metadata": {
        "id": "_uVXGWC0aJEb"
      },
      "source": [
        "# Problem 2"
      ]
    },
    {
      "cell_type": "code",
      "execution_count": 9,
      "metadata": {
        "id": "bGJcARkZaJEb"
      },
      "outputs": [],
      "source": [
        "class CallOption:\n",
        "\n",
        "    def __init__(self, K, T, price=None):\n",
        "        self.K = K\n",
        "        self.T = T\n",
        "        self.price = price\n"
      ]
    },
    {
      "cell_type": "code",
      "execution_count": 10,
      "metadata": {
        "id": "ykgmm3cseKDt"
      },
      "outputs": [],
      "source": [
        "class AnalyticEngine:\n",
        "\n",
        "    def __init__(self):\n",
        "        pass\n",
        "\n",
        "    def BSpriceCall(self, dynamics, contract):\n",
        "\n",
        "        F = dynamics.S*np.exp(dynamics.rGrow*contract.T)\n",
        "        std = dynamics.sigma*np.sqrt(contract.T)\n",
        "        d1 = np.log(F/contract.K)/std+std/2\n",
        "        d2 = d1-std\n",
        "        return np.exp(-dynamics.r*contract.T)*(F*norm.cdf(d1)-contract.K*norm.cdf(d2))\n",
        "\n",
        "    def IV(self, dynamics, contract):\n",
        "\n",
        "        if contract.price is None:\n",
        "            raise ValueError('Contract price must be given')\n",
        "\n",
        "        df = np.exp(-dynamics.r*contract.T)  #discount factor\n",
        "        F = dynamics.S / df\n",
        "        lowerbound = np.max([0,(F-contract.K)*df])\n",
        "        C = contract.price\n",
        "        if C<lowerbound:\n",
        "            return np.nan\n",
        "        if C==lowerbound:\n",
        "            return 0\n",
        "        if C>=F*df:\n",
        "            return np.nan\n",
        "\n",
        "        dytry = copy(dynamics)\n",
        "        # We \"try\" values of sigma until we find sigma that generates price C\n",
        "\n",
        "        # First find lower and upper bounds\n",
        "        sigma_try = 0.2\n",
        "        while self.BSpriceCall(dytry.update_sigma(sigma_try),contract)>C:\n",
        "            sigma_try /= 2\n",
        "        while self.BSpriceCall(dytry.update_sigma(sigma_try),contract)<C:\n",
        "            sigma_try *= 2\n",
        "        hi = sigma_try\n",
        "        lo = hi/2\n",
        "\n",
        "        def objective(sigma):\n",
        "            dytry = copy(dynamics)\n",
        "            dytry.sigma = sigma\n",
        "            return self.BSpriceCall(dytry, contract) - C\n",
        "        impliedVolatility = brentq(objective, a=lo, b=hi)    \n",
        "        return impliedVolatility\n"
      ]
    },
    {
      "cell_type": "code",
      "execution_count": 11,
      "metadata": {
        "id": "17EZED_TaJEc"
      },
      "outputs": [
        {
          "data": {
            "text/plain": [
              "11.246291601828489"
            ]
          },
          "execution_count": 11,
          "metadata": {},
          "output_type": "execute_result"
        }
      ],
      "source": [
        "\n",
        "hw1analytic = AnalyticEngine()\n",
        "dynamics2 = GBMdynamics(sigma=0.4, rGrow=0, S=100, r=0)\n",
        "contract2 = CallOption(K=100, T=0.5)\n",
        "hw1analytic.BSpriceCall(dynamics2,contract2)"
      ]
    },
    {
      "cell_type": "code",
      "execution_count": 12,
      "metadata": {
        "id": "FJQkc6dXaJEc"
      },
      "outputs": [
        {
          "data": {
            "text/plain": [
              "0.4001327809210663"
            ]
          },
          "execution_count": 12,
          "metadata": {},
          "output_type": "execute_result"
        }
      ],
      "source": [
        "\n",
        "contract2.price = 12\n",
        "hw1analytic.IV(dynamics2,contract2)    "
      ]
    },
    {
      "cell_type": "code",
      "execution_count": 20,
      "metadata": {},
      "outputs": [
        {
          "data": {
            "text/plain": [
              "0.4001327809210663"
            ]
          },
          "execution_count": 20,
          "metadata": {},
          "output_type": "execute_result"
        }
      ],
      "source": [
        "\n",
        "contract2.price = 11.25\n",
        "hw1analytic.IV(dynamics2,contract2) "
      ]
    },
    {
      "cell_type": "code",
      "execution_count": 13,
      "metadata": {},
      "outputs": [
        {
          "data": {
            "text/plain": [
              "15.851941887820608"
            ]
          },
          "execution_count": 13,
          "metadata": {},
          "output_type": "execute_result"
        }
      ],
      "source": [
        "hw1analytic_sub = AnalyticEngine()\n",
        "dynamics3 = GBMdynamics(sigma=0.4, rGrow=0, S=100, r=0)\n",
        "contract3 = CallOption(K=100, T=1)\n",
        "hw1analytic_sub.BSpriceCall(dynamics3,contract3)"
      ]
    },
    {
      "cell_type": "code",
      "execution_count": 14,
      "metadata": {
        "id": "w480Jqp6UcZm"
      },
      "outputs": [
        {
          "data": {
            "text/plain": [
              "0.3019384309935543"
            ]
          },
          "execution_count": 14,
          "metadata": {},
          "output_type": "execute_result"
        }
      ],
      "source": [
        "contract3.price = 12 \n",
        "hw1analytic.IV(dynamics3,contract3)"
      ]
    },
    {
      "cell_type": "markdown",
      "metadata": {},
      "source": [
        "The implied volatility is 0.3019 for the call with 1-year expiry. The implied volatility is 0.4001 for the call with 0.75-year expiry."
      ]
    },
    {
      "cell_type": "markdown",
      "metadata": {},
      "source": [
        "### (b)"
      ]
    },
    {
      "cell_type": "markdown",
      "metadata": {},
      "source": [
        "If the implied volatility of S with expiry 0.75 is midpoint of the previous two results, $\\sigma_{imp} = 0.35103$ roughly. \n",
        "\n",
        "Utilizing the BS formula, we can get: \n",
        "$$C = N(\\frac{1}{0.35103\\sqrt{0.75}}[ln(\\frac{100}{100})+\\frac{0.35103^2}{2}*0.75])*100 \\\\- N(\\frac{1}{0.35103\\sqrt{0.75}}[ln(\\frac{100}{100})+\\frac{0.35103^2}{2}*0.75] - 0.35103*\\sqrt{0.75})*100 \\\\ = N(0.15200) *100 - N(-0.15200)*100 = 0.5604 *100 - 0.4396*100 = 12.08$$\n"
      ]
    },
    {
      "cell_type": "markdown",
      "metadata": {},
      "source": [
        "### (c)"
      ]
    },
    {
      "cell_type": "markdown",
      "metadata": {},
      "source": [
        "At t = 0, short one unit of Call with 0.75 expirary and long one Call with 1 expirary. \n",
        "\n",
        "Mathematical Notation:\n",
        "$$V(0) = - C_{0.75}+ C_{1} = -12.08 + 12 = -0.08 < 0 \\\\ P(V_0) < 0 = 1$$\n",
        "\n",
        "Then we can list all the possibility down below: \n",
        "\n",
        "V(T) | $S_{0.75} \\geq$ 100 | $S_{0.75} < $ 100 \n",
        "------|---------------------|----------\n",
        "$S_{1} \\geq$ 100 | $S_1-100 > 0$ | $100 - S_1$ > 0 \n",
        "$S_{1} <$ 100  | Short stock at 0.75, get 100. At t = 1, do not exercise the call, buy a stock and recover the short. Get $-S_1 - S_0.75 + 200 > 0$ | 0\n",
        "\n",
        "$P(V_1 \\geq 0) = 1$\n"
      ]
    }
  ],
  "metadata": {
    "anaconda-cloud": {},
    "colab": {
      "provenance": []
    },
    "kernelspec": {
      "display_name": "Python 3",
      "language": "python",
      "name": "python3"
    },
    "language_info": {
      "codemirror_mode": {
        "name": "ipython",
        "version": 3
      },
      "file_extension": ".py",
      "mimetype": "text/x-python",
      "name": "python",
      "nbconvert_exporter": "python",
      "pygments_lexer": "ipython3",
      "version": "3.11.3"
    },
    "toc": {
      "base_numbering": 1,
      "nav_menu": {},
      "number_sections": true,
      "sideBar": true,
      "skip_h1_title": false,
      "title_cell": "Table of Contents",
      "title_sidebar": "Contents",
      "toc_cell": false,
      "toc_position": {},
      "toc_section_display": true,
      "toc_window_display": false
    }
  },
  "nbformat": 4,
  "nbformat_minor": 0
}
