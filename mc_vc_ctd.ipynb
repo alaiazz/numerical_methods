{
  "cells": [
    {
      "cell_type": "code",
      "execution_count": 2,
      "metadata": {
        "id": "Dcd4oWAt46DD"
      },
      "outputs": [],
      "source": [
        "import numpy as np\n",
        "from scipy.stats import norm\n",
        "from copy import copy"
      ]
    },
    {
      "cell_type": "markdown",
      "metadata": {
        "id": "qGknbqw346DG"
      },
      "source": [
        "## Problem 2"
      ]
    },
    {
      "cell_type": "code",
      "execution_count": 3,
      "metadata": {
        "id": "7Ij9oOIK46DH"
      },
      "outputs": [],
      "source": [
        "class GBM:\n",
        "\n",
        "    def __init__(self,sigma,r,drift,S_t,t):\n",
        "        self.sigma = sigma\n",
        "        self.r = r\n",
        "        self.drift = drift   \n",
        "        self.S_t = S_t\n",
        "        self.t = t"
      ]
    },
    {
      "cell_type": "code",
      "execution_count": 4,
      "metadata": {
        "id": "et82EvKlrd-9"
      },
      "outputs": [],
      "source": [
        "class CallOption:\n",
        "\n",
        "    def __init__(self, K, T):\n",
        "        self.K = K\n",
        "        self.T = T"
      ]
    },
    {
      "cell_type": "code",
      "execution_count": 5,
      "metadata": {
        "id": "hO-jVk7gxXaw"
      },
      "outputs": [],
      "source": [
        "class CallBinary:\n",
        "\n",
        "    def __init__(self, K, T):\n",
        "        self.K = K\n",
        "        self.T = T"
      ]
    },
    {
      "cell_type": "code",
      "execution_count": 6,
      "metadata": {
        "id": "YwUReruu46DH"
      },
      "outputs": [],
      "source": [
        "class EYcontract:\n",
        "\n",
        "    def __init__(self,threshold0,K_case1,K_case2lower,K_case2upper,T0,T1):\n",
        "        self.K_case1 = K_case1\n",
        "        self.K_case2lower = K_case2lower\n",
        "        self.K_case2upper = K_case2upper\n",
        "        self.threshold0 = threshold0\n",
        "        self.T0=T0\n",
        "        self.T1=T1"
      ]
    },
    {
      "cell_type": "code",
      "execution_count": 7,
      "metadata": {
        "id": "f5AECa3vMDWm"
      },
      "outputs": [],
      "source": [
        "class AnalyticEngine:\n",
        "\n",
        "    def __init__(self):\n",
        "        pass\n",
        "\n",
        "    def BSpriceCall(self, dynamics, contract):\n",
        "        timeRemaining = contract.T - dynamics.t\n",
        "        F = dynamics.S_t*np.exp(dynamics.drift*timeRemaining)\n",
        "        std = dynamics.sigma*np.sqrt(timeRemaining)\n",
        "        d1 = np.log(F/contract.K)/std+std/2\n",
        "        d2 = d1-std\n",
        "        return np.exp(-dynamics.r*timeRemaining)*(F*norm.cdf(d1)-contract.K*norm.cdf(d2))\n",
        "\n",
        "    def BSpriceCallBinary(self, dynamics, contract):\n",
        "\n",
        "        timeRemaining = contract.T - dynamics.t\n",
        "        F = dynamics.S_t*np.exp(dynamics.drift*timeRemaining)\n",
        "        std = dynamics.sigma*np.sqrt(timeRemaining)\n",
        "        d2 = np.log(F/contract.K)/std+std/2\n",
        "        return np.exp(-dynamics.r*timeRemaining)*norm.cdf(d2)"
      ]
    },
    {
      "cell_type": "code",
      "execution_count": 8,
      "metadata": {
        "id": "XkV2FaBs46DH"
      },
      "outputs": [],
      "source": [
        "class MCengine:\n",
        "\n",
        "    def __init__(self, M, seed):\n",
        "        self.M = M                                   \n",
        "        self.rng = np.random.default_rng(seed=seed) \n",
        "\n",
        "    def price_EYcontract(self,contract,dynamics):\n",
        "        M,sigma,r,drift,S_t,t = self.M,dynamics.sigma,dynamics.r,dynamics.drift,dynamics.S_t,dynamics.t\n",
        "        dt = contract.T0 - t\n",
        "        Z = self.rng.normal(size=M)\n",
        "        S_T = S_t*np.exp((drift-0.5*sigma**2)*dt+sigma*np.sqrt(dt)*Z)\n",
        "        payoff = np.zeros(M)\n",
        "\n",
        "\n",
        "        for i in range(M):\n",
        "\n",
        "            embeddedCallcase1 = CallOption(K=contract.K_case1, T=contract.T1)\n",
        "            embeddedCallcase2 = CallOption(K=contract.K_case2lower, T=contract.T1)\n",
        "            embeddedBinarycase2 = CallBinary(K=contract.K_case2upper, T=contract.T1)\n",
        "            dynamicsConditional = copy(dynamics)\n",
        "            dynamicsConditional.t = contract.T0\n",
        "\n",
        "            if S_T[i] > contract.threshold0:\n",
        "                dynamicsConditional.S_t = S_T[i]\n",
        "                payoff[i] = AnalyticEngine().BSpriceCall(dynamicsConditional,embeddedCallcase1) \n",
        "            else:\n",
        "                dynamicsConditional.S_t = S_T[i]\n",
        "                payoff[i] = AnalyticEngine().BSpriceCall(dynamicsConditional,embeddedCallcase2) + AnalyticEngine().BSpriceCallBinary(dynamicsConditional,embeddedBinarycase2)\n",
        "            payoff[i] = np.exp(-r*dt)*payoff[i]\n",
        "        price = np.mean(payoff)\n",
        "        standard_error = np.std(payoff)/np.sqrt(M)\n",
        "\n",
        "\n",
        "        return(price, standard_error)\n"
      ]
    },
    {
      "cell_type": "code",
      "execution_count": 9,
      "metadata": {
        "id": "s-s2e_F246DH"
      },
      "outputs": [],
      "source": [
        "hw7p2contract=EYcontract(threshold0=12,K_case1=11,K_case2lower=10,K_case2upper=14,T0=0.5,T1=1.0)"
      ]
    },
    {
      "cell_type": "code",
      "execution_count": 10,
      "metadata": {
        "id": "sJlC7Oer46DH"
      },
      "outputs": [],
      "source": [
        "hw7p2dynamics=GBM(sigma=0.7,r=0.02,drift=0.02,S_t=10,t=0)"
      ]
    },
    {
      "cell_type": "code",
      "execution_count": 11,
      "metadata": {
        "id": "wjwZIDnU46DH"
      },
      "outputs": [
        {
          "name": "stdout",
          "output_type": "stream",
          "text": [
            "2.7432825465309123 0.01130510426676067\n"
          ]
        }
      ],
      "source": [
        "hw7p2MC=MCengine(M=100000,seed=0)\n",
        "(price, std_err) =  hw7p2MC.price_EYcontract(hw7p2contract,hw7p2dynamics)\n",
        "print(price,std_err)"
      ]
    }
  ],
  "metadata": {
    "anaconda-cloud": {},
    "colab": {
      "provenance": []
    },
    "kernelspec": {
      "display_name": "Python 3",
      "language": "python",
      "name": "python3"
    },
    "language_info": {
      "codemirror_mode": {
        "name": "ipython",
        "version": 3
      },
      "file_extension": ".py",
      "mimetype": "text/x-python",
      "name": "python",
      "nbconvert_exporter": "python",
      "pygments_lexer": "ipython3",
      "version": "3.11.3"
    },
    "toc": {
      "base_numbering": 1,
      "nav_menu": {},
      "number_sections": true,
      "sideBar": true,
      "skip_h1_title": false,
      "title_cell": "Table of Contents",
      "title_sidebar": "Contents",
      "toc_cell": false,
      "toc_position": {},
      "toc_section_display": true,
      "toc_window_display": false
    }
  },
  "nbformat": 4,
  "nbformat_minor": 0
}
