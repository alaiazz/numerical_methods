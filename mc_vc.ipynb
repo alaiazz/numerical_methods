{
  "cells": [
    {
      "cell_type": "markdown",
      "metadata": {},
      "source": [
        "# Problem 1"
      ]
    },
    {
      "cell_type": "code",
      "execution_count": 23,
      "metadata": {
        "id": "F5muQAh24GBQ"
      },
      "outputs": [],
      "source": [
        "import numpy as np\n",
        "import scipy.optimize\n",
        "from scipy.linalg import lstsq"
      ]
    },
    {
      "cell_type": "code",
      "execution_count": 24,
      "metadata": {
        "id": "EVrtWCVN4GBR"
      },
      "outputs": [],
      "source": [
        "class GBM:\n",
        "\n",
        "    def __init__(self,S0,r,sigma):\n",
        "        self.S0 = 1\n",
        "        self.r = 0.03\n",
        "        self.sigma = 0.20"
      ]
    },
    {
      "cell_type": "code",
      "execution_count": 25,
      "metadata": {
        "id": "nsUtWRWg4GBR"
      },
      "outputs": [],
      "source": [
        "hw7dynamics = GBM(S0=1,r=0.03,sigma=0.20)"
      ]
    },
    {
      "cell_type": "code",
      "execution_count": 26,
      "metadata": {
        "id": "rKfu_mkO4GBR"
      },
      "outputs": [],
      "source": [
        "class Put:\n",
        "\n",
        "    def __init__(self,K,T):\n",
        "        self.K = K\n",
        "        self.T = T"
      ]
    },
    {
      "cell_type": "code",
      "execution_count": 27,
      "metadata": {
        "id": "lW_W1mKf4GBR"
      },
      "outputs": [],
      "source": [
        "hw7contract = Put(K=1.1,T=4)"
      ]
    },
    {
      "cell_type": "code",
      "execution_count": 28,
      "metadata": {
        "id": "94XU4gKI4GBR"
      },
      "outputs": [],
      "source": [
        "class MCengine:\n",
        "\n",
        "    def __init__(self,M,N,seed,algorithm):\n",
        "\n",
        "        self.M = M \n",
        "        self.N = N   \n",
        "        self.rng = np.random.default_rng(seed=seed) \n",
        "        self.algorithm = algorithm\n",
        "\n",
        "\n",
        "    def price_americanPut_GBM(self,contract,dynamics):\n",
        "\n",
        "        r=dynamics.r\n",
        "        sigma=dynamics.sigma\n",
        "        S0=dynamics.S0\n",
        "\n",
        "        K=contract.K\n",
        "        T=contract.T\n",
        "\n",
        "        N=self.N\n",
        "        M=self.M\n",
        "        dt=T/N\n",
        "\n",
        "        Z = self.rng.normal(size=(M,N))\n",
        "\n",
        "        paths = S0*np.exp((r-sigma**2/2)*dt*np.tile(np.arange(1,N+1),(M,1))+sigma*np.sqrt(dt)*np.cumsum(Z,axis=1))\n",
        "\n",
        "        payoffDiscounted = np.maximum(0,K-paths[:,-1])\n",
        "\n",
        "        for nn in np.arange(N-1,0,-1):\n",
        "\n",
        "\n",
        "            X=paths[:,nn-1]\n",
        "            exerciseValue = K-X\n",
        "\n",
        "            if self.algorithm == 'value':\n",
        "\n",
        "\n",
        "                basisfunctions = np.stack([np.ones(M), X, X**2], axis=1) \n",
        "\n",
        "                coefficients, res, rnk, s = np.linalg.lstsq(basisfunctions, payoffDiscounted, rcond=None)\n",
        "\n",
        "\n",
        "                estimatedContinuationValue = basisfunctions @ coefficients  \n",
        "\n",
        "                whichPathsToExercise = (exerciseValue >= np.maximum(estimatedContinuationValue,0))\n",
        "   \n",
        "\n",
        "            elif self.algorithm == 'policy':\n",
        "\n",
        "\n",
        "                (a_opt,b_opt) = scipy.optimize.minimize(\n",
        "                    negofMCaverageOfExpectedPayouts,(0,0),args=(X,exerciseValue,continuationPayoffDiscounted),method='Nelder-Mead').x\n",
        "\n",
        "                softExerciseValues = softExercise(X, a_opt, b_opt)\n",
        "                whichPathsToExercise = (exerciseValue > softExerciseValues) \n",
        "\n",
        "            else:\n",
        "                raise ValueError('Unknown algorithm type')\n",
        "\n",
        "\n",
        "            payoffDiscounted[whichPathsToExercise] = exerciseValue[whichPathsToExercise]\n",
        "            payoffDiscounted[np.logical_not(whichPathsToExercise)] = continuationPayoffDiscounted[~whichPathsToExercise]\n",
        "            \n",
        "        continuationPayoffDiscounted = np.exp(-r*dt)*payoffDiscounted;\n",
        "        estimatedContinuationValue = np.mean(continuationPayoffDiscounted);\n",
        "        putprice = max(K-S0,estimatedContinuationValue);\n",
        "\n",
        "        return(putprice)"
      ]
    },
    {
      "cell_type": "code",
      "execution_count": 29,
      "metadata": {
        "id": "SgmUYic94GBS"
      },
      "outputs": [],
      "source": [
        "\n",
        "\n",
        "def softExercise(X,a,b):\n",
        "    return 1/(1+np.exp(-b*(X-a)))"
      ]
    },
    {
      "cell_type": "code",
      "execution_count": 33,
      "metadata": {
        "id": "fenSj43Z4GBS"
      },
      "outputs": [],
      "source": [
        "\n",
        "\n",
        "def negofMCaverageOfExpectedPayouts(coefficients, x, exercisePayoff, continuationPayoff):\n",
        "\n",
        "    p = softExercise(x,*coefficients)\n",
        "\n",
        "\n",
        "    paths = p * exercisePayoff + (1-p) * continuationPayoff\n",
        "    avg_path = -np.mean(paths)\n",
        "\n",
        "    return avg_path\n"
      ]
    },
    {
      "cell_type": "markdown",
      "metadata": {},
      "source": [
        "### a. "
      ]
    },
    {
      "cell_type": "code",
      "execution_count": 34,
      "metadata": {
        "id": "dQwn3Yn44GBS"
      },
      "outputs": [
        {
          "data": {
            "text/plain": [
              "0.16074111276369632"
            ]
          },
          "execution_count": 34,
          "metadata": {},
          "output_type": "execute_result"
        }
      ],
      "source": [
        "hw7MC = MCengine(M=10000,N=4,seed=0,algorithm='value')\n",
        "hw7MC.price_americanPut_GBM(hw7contract,hw7dynamics)"
      ]
    },
    {
      "cell_type": "markdown",
      "metadata": {},
      "source": [
        "### b. "
      ]
    },
    {
      "cell_type": "code",
      "execution_count": 35,
      "metadata": {
        "id": "lNwP7DMR6hU4"
      },
      "outputs": [
        {
          "name": "stderr",
          "output_type": "stream",
          "text": [
            "/var/folders/g_/x9l31p1j2rjfgwqskfjc6knw0000gn/T/ipykernel_19568/3835755103.py:7: RuntimeWarning: overflow encountered in exp\n",
            "  return 1/(1+np.exp(-b*(X-a)))\n"
          ]
        },
        {
          "data": {
            "text/plain": [
              "0.12142759510531755"
            ]
          },
          "execution_count": 35,
          "metadata": {},
          "output_type": "execute_result"
        }
      ],
      "source": [
        "hw7MC = MCengine(M=10000,N=4,seed=0,algorithm='policy')\n",
        "hw7MC.price_americanPut_GBM(hw7contract,hw7dynamics)"
      ]
    }
  ],
  "metadata": {
    "anaconda-cloud": {},
    "colab": {
      "provenance": []
    },
    "kernelspec": {
      "display_name": "Python 3",
      "language": "python",
      "name": "python3"
    },
    "language_info": {
      "codemirror_mode": {
        "name": "ipython",
        "version": 3
      },
      "file_extension": ".py",
      "mimetype": "text/x-python",
      "name": "python",
      "nbconvert_exporter": "python",
      "pygments_lexer": "ipython3",
      "version": "3.11.3"
    },
    "toc": {
      "base_numbering": 1,
      "nav_menu": {},
      "number_sections": true,
      "sideBar": true,
      "skip_h1_title": false,
      "title_cell": "Table of Contents",
      "title_sidebar": "Contents",
      "toc_cell": false,
      "toc_position": {},
      "toc_section_display": true,
      "toc_window_display": false
    }
  },
  "nbformat": 4,
  "nbformat_minor": 0
}
